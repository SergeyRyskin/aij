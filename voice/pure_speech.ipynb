{
 "cells": [
  {
   "cell_type": "markdown",
   "source": [
    "# Text to Speech Library\n",
    "\n",
    "This is a library for converting text to speech. It uses the pyttsx3 library."
   ],
   "metadata": {
    "collapsed": false
   }
  },
  {
   "cell_type": "code",
   "execution_count": 2,
   "outputs": [
    {
     "name": "stdout",
     "output_type": "stream",
     "text": [
      "Collecting pyttsx3\n",
      "  Downloading pyttsx3-2.90-py3-none-any.whl (39 kB)\n",
      "Collecting comtypes\n",
      "  Downloading comtypes-1.1.14-py2.py3-none-any.whl (172 kB)\n",
      "     ---------------------------------------- 0.0/172.8 kB ? eta -:--:--\n",
      "     ------------------------------------ - 163.8/172.8 kB 9.6 MB/s eta 0:00:01\n",
      "     -------------------------------------- 172.8/172.8 kB 2.6 MB/s eta 0:00:00\n",
      "Collecting pypiwin32\n",
      "  Using cached pypiwin32-223-py3-none-any.whl (1.7 kB)\n",
      "Requirement already satisfied: pywin32 in c:\\users\\yilma\\appdata\\local\\programs\\python\\python310\\lib\\site-packages (from pyttsx3) (306)\n",
      "Installing collected packages: comtypes, pypiwin32, pyttsx3\n",
      "Successfully installed comtypes-1.1.14 pypiwin32-223 pyttsx3-2.90\n"
     ]
    }
   ],
   "source": [
    "!pip install pyttsx3"
   ],
   "metadata": {
    "collapsed": false,
    "ExecuteTime": {
     "start_time": "2023-04-02T00:41:06.136312Z",
     "end_time": "2023-04-02T00:41:21.101119Z"
    }
   }
  },
  {
   "cell_type": "code",
   "execution_count": 3,
   "outputs": [],
   "source": [
    "import pyttsx3\n",
    "\n",
    "# initialize text to speech engine\n",
    "text_to_speech = pyttsx3.init()\n",
    "\n",
    "# set properties\n",
    "text_to_speech.setProperty('rate', 150) # words per minute\n",
    "text_to_speech.setProperty('volume', 0.9) # 0-1\n"
   ],
   "metadata": {
    "collapsed": false,
    "ExecuteTime": {
     "start_time": "2023-04-02T00:43:05.720666Z",
     "end_time": "2023-04-02T00:43:06.753774Z"
    }
   }
  },
  {
   "cell_type": "code",
   "execution_count": 9,
   "outputs": [
    {
     "name": "stdout",
     "output_type": "stream",
     "text": [
      "Voice 0: Microsoft Hazel Desktop - English (Great Britain) - HKEY_LOCAL_MACHINE\\SOFTWARE\\Microsoft\\Speech\\Voices\\Tokens\\TTS_MS_EN-GB_HAZEL_11.0\n"
     ]
    }
   ],
   "source": [
    "# get available voices\n",
    "voices = text_to_speech.getProperty('voices')\n",
    "\n",
    "# print voice details\n",
    "print(\n",
    "    'Voice 0: ' + voices[0].name + ' - ' + voices[0].id\n",
    ")"
   ],
   "metadata": {
    "collapsed": false,
    "ExecuteTime": {
     "start_time": "2023-04-02T00:45:39.942790Z",
     "end_time": "2023-04-02T00:45:39.969944Z"
    }
   }
  },
  {
   "cell_type": "code",
   "execution_count": 19,
   "outputs": [],
   "source": [
    "# set the content of the speech\n",
    "text_to_speech.say(\"Hello! I am the only AI Journalist. You can call me 'AIJ\")\n",
    "\n",
    "# start the speech\n",
    "text_to_speech.runAndWait()"
   ],
   "metadata": {
    "collapsed": false,
    "ExecuteTime": {
     "start_time": "2023-04-02T00:52:01.420386Z",
     "end_time": "2023-04-02T00:52:08.261128Z"
    }
   }
  },
  {
   "cell_type": "code",
   "execution_count": 64,
   "outputs": [],
   "source": [
    "# stop the speech\n",
    "text_to_speech.stop()\n"
   ],
   "metadata": {
    "collapsed": false,
    "ExecuteTime": {
     "start_time": "2023-04-02T02:21:04.007503Z",
     "end_time": "2023-04-02T02:21:04.031745Z"
    }
   }
  },
  {
   "cell_type": "markdown",
   "source": [
    "## gTTS\n",
    "\n",
    "This is a library for converting text to speech."
   ],
   "metadata": {
    "collapsed": false
   }
  },
  {
   "cell_type": "code",
   "execution_count": 20,
   "outputs": [
    {
     "name": "stdout",
     "output_type": "stream",
     "text": [
      "Requirement already satisfied: gTTS in c:\\users\\yilma\\appdata\\local\\programs\\python\\python310\\lib\\site-packages (2.3.1)\n",
      "Requirement already satisfied: click<8.2,>=7.1 in c:\\users\\yilma\\appdata\\roaming\\python\\python310\\site-packages (from gTTS) (8.1.3)\n",
      "Requirement already satisfied: requests<3,>=2.27 in c:\\users\\yilma\\appdata\\roaming\\python\\python310\\site-packages (from gTTS) (2.28.2)\n",
      "Requirement already satisfied: colorama in c:\\users\\yilma\\appdata\\roaming\\python\\python310\\site-packages (from click<8.2,>=7.1->gTTS) (0.4.6)\n",
      "Requirement already satisfied: urllib3<1.27,>=1.21.1 in c:\\users\\yilma\\appdata\\local\\programs\\python\\python310\\lib\\site-packages (from requests<3,>=2.27->gTTS) (1.26.15)\n",
      "Requirement already satisfied: charset-normalizer<4,>=2 in c:\\users\\yilma\\appdata\\roaming\\python\\python310\\site-packages (from requests<3,>=2.27->gTTS) (3.1.0)\n",
      "Requirement already satisfied: idna<4,>=2.5 in c:\\users\\yilma\\appdata\\local\\programs\\python\\python310\\lib\\site-packages (from requests<3,>=2.27->gTTS) (3.4)\n",
      "Requirement already satisfied: certifi>=2017.4.17 in c:\\users\\yilma\\appdata\\roaming\\python\\python310\\site-packages (from requests<3,>=2.27->gTTS) (2022.12.7)\n"
     ]
    }
   ],
   "source": [
    "!pip install gTTS"
   ],
   "metadata": {
    "collapsed": false,
    "ExecuteTime": {
     "start_time": "2023-04-02T00:53:37.340651Z",
     "end_time": "2023-04-02T00:53:43.616850Z"
    }
   }
  },
  {
   "cell_type": "code",
   "execution_count": 61,
   "outputs": [],
   "source": [
    "# Import the required module for text\n",
    "# to speech conversion\n",
    "from gtts import gTTS\n",
    "\n",
    "# This module is imported so that we can\n",
    "# play the converted audio\n",
    "import os\n",
    "\n",
    "# The text that you want to convert to audio\n",
    "given_speech = 'Welcome to AIJ News!'\n",
    "\n",
    "# Language in which you want to convert\n",
    "language = 'en'\n",
    "\n",
    "# Passing the text and language to the engine,\n",
    "# here we have marked slow=False. Which tells\n",
    "# the module that the converted audio should\n",
    "# have a high speed\n",
    "voice_mapper = gTTS(text=given_speech, lang=language, slow=False)\n",
    "\n",
    "# Saving the converted audio in a mp3 file named\n",
    "# welcome\n",
    "voice_mapper.save(\"welcome.mp3\")"
   ],
   "metadata": {
    "collapsed": false,
    "ExecuteTime": {
     "start_time": "2023-04-02T01:08:31.519936Z",
     "end_time": "2023-04-02T01:08:31.836205Z"
    }
   }
  },
  {
   "cell_type": "code",
   "execution_count": 24,
   "outputs": [
    {
     "name": "stdout",
     "output_type": "stream",
     "text": [
      "Requirement already satisfied: playsound in c:\\users\\yilma\\appdata\\local\\programs\\python\\python310\\lib\\site-packages (1.3.0)\n"
     ]
    }
   ],
   "source": [
    "!pip install playsound"
   ],
   "metadata": {
    "collapsed": false,
    "ExecuteTime": {
     "start_time": "2023-04-02T00:59:28.755277Z",
     "end_time": "2023-04-02T00:59:34.909659Z"
    }
   }
  },
  {
   "cell_type": "code",
   "execution_count": 62,
   "outputs": [],
   "source": [
    "# play the audio file using the playsound module\n",
    "import playsound"
   ],
   "metadata": {
    "collapsed": false,
    "ExecuteTime": {
     "start_time": "2023-04-02T01:08:34.688953Z",
     "end_time": "2023-04-02T01:08:34.712853Z"
    }
   }
  },
  {
   "cell_type": "code",
   "execution_count": 63,
   "outputs": [],
   "source": [
    "# play the audio file\n",
    "playsound.playsound('welcome.mp3', True)"
   ],
   "metadata": {
    "collapsed": false,
    "ExecuteTime": {
     "start_time": "2023-04-02T01:08:36.137384Z",
     "end_time": "2023-04-02T01:08:39.270529Z"
    }
   }
  }
 ],
 "metadata": {
  "kernelspec": {
   "display_name": "Python 3",
   "language": "python",
   "name": "python3"
  },
  "language_info": {
   "codemirror_mode": {
    "name": "ipython",
    "version": 2
   },
   "file_extension": ".py",
   "mimetype": "text/x-python",
   "name": "python",
   "nbconvert_exporter": "python",
   "pygments_lexer": "ipython2",
   "version": "2.7.6"
  }
 },
 "nbformat": 4,
 "nbformat_minor": 0
}
