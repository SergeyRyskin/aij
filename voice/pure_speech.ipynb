{
 "cells": [
  {
   "cell_type": "markdown",
   "metadata": {
    "collapsed": false
   },
   "source": [
    "# Text to Speech Library\n",
    "\n",
    "This is a library for converting text to speech. It uses the pyttsx3 library."
   ]
  },
  {
   "cell_type": "code",
   "execution_count": null,
   "metadata": {
    "ExecuteTime": {
     "end_time": "2023-04-02T00:41:21.101119Z",
     "start_time": "2023-04-02T00:41:06.136312Z"
    },
    "collapsed": false
   },
   "outputs": [],
   "source": [
    "%pip install pyttsx3"
   ]
  },
  {
   "cell_type": "code",
   "execution_count": null,
   "metadata": {
    "ExecuteTime": {
     "end_time": "2023-04-02T00:43:06.753774Z",
     "start_time": "2023-04-02T00:43:05.720666Z"
    },
    "collapsed": false
   },
   "outputs": [],
   "source": [
    "import pyttsx3\n",
    "\n",
    "# initialize text to speech engine\n",
    "text_to_speech = pyttsx3.init()\n",
    "\n",
    "# set properties\n",
    "text_to_speech.setProperty('rate', 150) # words per minute\n",
    "text_to_speech.setProperty('volume', 0.9) # 0-1\n"
   ]
  },
  {
   "cell_type": "code",
   "execution_count": null,
   "metadata": {
    "ExecuteTime": {
     "end_time": "2023-04-02T00:45:39.969944Z",
     "start_time": "2023-04-02T00:45:39.942790Z"
    },
    "collapsed": false
   },
   "outputs": [],
   "source": [
    "# get available voices\n",
    "voices = text_to_speech.getProperty('voices')\n",
    "\n",
    "# print voice details\n",
    "print(\n",
    "    'Voice 0: ' + voices[0].name + ' - ' + voices[0].id\n",
    ")"
   ]
  },
  {
   "cell_type": "code",
   "execution_count": null,
   "metadata": {
    "ExecuteTime": {
     "end_time": "2023-04-02T00:52:08.261128Z",
     "start_time": "2023-04-02T00:52:01.420386Z"
    },
    "collapsed": false
   },
   "outputs": [],
   "source": [
    "# set the content of the speech\n",
    "text_to_speech.say(\"Hello! I am the only AI Journalist. You can call me 'AIJ\")\n",
    "\n",
    "# start the speech\n",
    "text_to_speech.runAndWait()"
   ]
  },
  {
   "cell_type": "code",
   "execution_count": null,
   "metadata": {
    "ExecuteTime": {
     "end_time": "2023-04-02T02:21:04.031745Z",
     "start_time": "2023-04-02T02:21:04.007503Z"
    },
    "collapsed": false
   },
   "outputs": [],
   "source": [
    "# stop the speech\n",
    "text_to_speech.stop()\n"
   ]
  },
  {
   "cell_type": "markdown",
   "metadata": {
    "collapsed": false
   },
   "source": [
    "## gTTS\n",
    "\n",
    "This is a library for converting text to speech."
   ]
  },
  {
   "cell_type": "code",
   "execution_count": null,
   "metadata": {
    "ExecuteTime": {
     "end_time": "2023-04-02T00:53:43.616850Z",
     "start_time": "2023-04-02T00:53:37.340651Z"
    },
    "collapsed": false
   },
   "outputs": [],
   "source": [
    "%pip install gTTS"
   ]
  },
  {
   "cell_type": "code",
   "execution_count": null,
   "metadata": {
    "ExecuteTime": {
     "end_time": "2023-04-02T01:08:31.836205Z",
     "start_time": "2023-04-02T01:08:31.519936Z"
    },
    "collapsed": false
   },
   "outputs": [],
   "source": [
    "# Import the required module for text\n",
    "# to speech conversion\n",
    "from gtts import gTTS\n",
    "\n",
    "# This module is imported so that we can\n",
    "# play the converted audio\n",
    "import os\n",
    "\n",
    "# The text that you want to convert to audio\n",
    "given_speech = 'Welcome to AIJ News!'\n",
    "\n",
    "# Language in which you want to convert\n",
    "language = 'en'\n",
    "\n",
    "# Passing the text and language to the engine,\n",
    "# here we have marked slow=False. Which tells\n",
    "# the module that the converted audio should\n",
    "# have a high speed\n",
    "voice_mapper = gTTS(text=given_speech, lang=language, slow=False)\n",
    "\n",
    "# Saving the converted audio in a mp3 file named\n",
    "# welcome\n",
    "voice_mapper.save(\"welcome.mp3\")"
   ]
  },
  {
   "cell_type": "code",
   "execution_count": null,
   "metadata": {
    "ExecuteTime": {
     "end_time": "2023-04-02T00:59:34.909659Z",
     "start_time": "2023-04-02T00:59:28.755277Z"
    },
    "collapsed": false
   },
   "outputs": [],
   "source": [
    "%pip install playsound"
   ]
  },
  {
   "cell_type": "code",
   "execution_count": null,
   "metadata": {
    "ExecuteTime": {
     "end_time": "2023-04-02T01:08:34.712853Z",
     "start_time": "2023-04-02T01:08:34.688953Z"
    },
    "collapsed": false
   },
   "outputs": [],
   "source": [
    "# play the audio file using the playsound module\n",
    "import playsound"
   ]
  },
  {
   "cell_type": "code",
   "execution_count": null,
   "metadata": {
    "ExecuteTime": {
     "end_time": "2023-04-02T01:08:39.270529Z",
     "start_time": "2023-04-02T01:08:36.137384Z"
    },
    "collapsed": false
   },
   "outputs": [],
   "source": [
    "# play the audio file\n",
    "playsound.playsound('welcome.mp3', True)"
   ]
  }
 ],
 "metadata": {
  "kernelspec": {
   "display_name": "Python 3",
   "language": "python",
   "name": "python3"
  },
  "language_info": {
   "codemirror_mode": {
    "name": "ipython",
    "version": 2
   },
   "file_extension": ".py",
   "mimetype": "text/x-python",
   "name": "python",
   "nbconvert_exporter": "python",
   "pygments_lexer": "ipython2",
   "version": "3.10.9"
  }
 },
 "nbformat": 4,
 "nbformat_minor": 0
}
