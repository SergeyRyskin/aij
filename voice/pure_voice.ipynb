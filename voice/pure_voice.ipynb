{
 "cells": [
  {
   "cell_type": "markdown",
   "source": [
    "# Pure Voice (Voice Recognition and Translation)"
   ],
   "metadata": {
    "collapsed": false
   }
  },
  {
   "cell_type": "markdown",
   "source": [
    "## Introduction"
   ],
   "metadata": {
    "collapsed": false
   }
  },
  {
   "cell_type": "markdown",
   "source": [
    "A real-time voice translator that can translate voice input and give translated voice output generated from it. It is created using google’s googleTrans API and speech_recognition library of python. It converts text from one language to another language and saves its mp3 recorded file. The playsound module is then used to play the generated mp3 file, After that, the generated mp3 file is deleted using the os module."
   ],
   "metadata": {
    "collapsed": false
   }
  },
  {
   "cell_type": "markdown",
   "source": [
    "## Required Modules"
   ],
   "metadata": {
    "collapsed": false
   }
  },
  {
   "cell_type": "markdown",
   "source": [
    "- Playsound: It is a very simple module that allows you to play audio files with a single line of code. It is cross-platform and runs on Windows, Mac OS X, and Linux. It is also compatible with Python 2 and 3.\n",
    "- SpeechRecognition: It is a library for performing speech recognition, with support for several engines and APIs, online and offline.\n",
    "- Googletrans: It is a free and unlimited python library that implemented Google Translate API. This uses the Google Translate Ajax API to make calls to such methods as detect and translate.\n",
    "- gTTS: It is a very easy to use tool which converts the text entered, into audio which can be saved as a mp3 file. This module is a very easy way to interface with Google Translate’s text to speech API. Google Translate is a free multilingual neural machine translation service developed by Google, to translate text.\n",
    "- OS: It is a module in Python which provides functions for interacting with the operating system. OS comes under Python’s standard utility modules. This module provides a portable way of using operating system dependent functionality.\n",
    "- PyAudio: It is a Python module for accessing the PortAudio library. It provides Python bindings for PortAudio, the cross-platform audio I/O library. PortAudio provides a uniform API for audio input and output across a variety of platforms and operating systems."
   ],
   "metadata": {
    "collapsed": false
   }
  },
  {
   "cell_type": "markdown",
   "source": [
    "### Installing the required modules"
   ],
   "metadata": {
    "collapsed": false
   }
  },
  {
   "cell_type": "code",
   "execution_count": 14,
   "outputs": [
    {
     "name": "stdout",
     "output_type": "stream",
     "text": [
      "Requirement already satisfied: playsound in c:\\users\\yilma\\appdata\\local\\programs\\python\\python310\\lib\\site-packages (1.3.0)\n"
     ]
    },
    {
     "name": "stderr",
     "output_type": "stream",
     "text": [
      "\n",
      "[notice] A new release of pip available: 22.3.1 -> 23.0.1\n",
      "[notice] To update, run: python.exe -m pip install --upgrade pip\n"
     ]
    },
    {
     "name": "stdout",
     "output_type": "stream",
     "text": [
      "Requirement already satisfied: SpeechRecognition in c:\\users\\yilma\\appdata\\local\\programs\\python\\python310\\lib\\site-packages (3.10.0)\n",
      "Requirement already satisfied: requests>=2.26.0 in c:\\users\\yilma\\appdata\\roaming\\python\\python310\\site-packages (from SpeechRecognition) (2.28.2)\n",
      "Requirement already satisfied: charset-normalizer<4,>=2 in c:\\users\\yilma\\appdata\\roaming\\python\\python310\\site-packages (from requests>=2.26.0->SpeechRecognition) (3.1.0)\n",
      "Requirement already satisfied: certifi>=2017.4.17 in c:\\users\\yilma\\appdata\\roaming\\python\\python310\\site-packages (from requests>=2.26.0->SpeechRecognition) (2022.12.7)\n",
      "Requirement already satisfied: urllib3<1.27,>=1.21.1 in c:\\users\\yilma\\appdata\\local\\programs\\python\\python310\\lib\\site-packages (from requests>=2.26.0->SpeechRecognition) (1.26.15)\n",
      "Requirement already satisfied: idna<4,>=2.5 in c:\\users\\yilma\\appdata\\local\\programs\\python\\python310\\lib\\site-packages (from requests>=2.26.0->SpeechRecognition) (2.10)\n"
     ]
    },
    {
     "name": "stderr",
     "output_type": "stream",
     "text": [
      "\n",
      "[notice] A new release of pip available: 22.3.1 -> 23.0.1\n",
      "[notice] To update, run: python.exe -m pip install --upgrade pip\n"
     ]
    },
    {
     "name": "stdout",
     "output_type": "stream",
     "text": [
      "Requirement already satisfied: googletrans in c:\\users\\yilma\\appdata\\local\\programs\\python\\python310\\lib\\site-packages (3.0.0)\n",
      "Requirement already satisfied: httpx==0.13.3 in c:\\users\\yilma\\appdata\\local\\programs\\python\\python310\\lib\\site-packages (from googletrans) (0.13.3)\n",
      "Requirement already satisfied: certifi in c:\\users\\yilma\\appdata\\roaming\\python\\python310\\site-packages (from httpx==0.13.3->googletrans) (2022.12.7)\n",
      "Requirement already satisfied: hstspreload in c:\\users\\yilma\\appdata\\local\\programs\\python\\python310\\lib\\site-packages (from httpx==0.13.3->googletrans) (2023.1.1)\n",
      "Requirement already satisfied: rfc3986<2,>=1.3 in c:\\users\\yilma\\appdata\\local\\programs\\python\\python310\\lib\\site-packages (from httpx==0.13.3->googletrans) (1.5.0)\n",
      "Requirement already satisfied: httpcore==0.9.* in c:\\users\\yilma\\appdata\\local\\programs\\python\\python310\\lib\\site-packages (from httpx==0.13.3->googletrans) (0.9.1)\n",
      "Requirement already satisfied: sniffio in c:\\users\\yilma\\appdata\\local\\programs\\python\\python310\\lib\\site-packages (from httpx==0.13.3->googletrans) (1.3.0)\n",
      "Requirement already satisfied: chardet==3.* in c:\\users\\yilma\\appdata\\local\\programs\\python\\python310\\lib\\site-packages (from httpx==0.13.3->googletrans) (3.0.4)\n",
      "Requirement already satisfied: idna==2.* in c:\\users\\yilma\\appdata\\local\\programs\\python\\python310\\lib\\site-packages (from httpx==0.13.3->googletrans) (2.10)\n",
      "Requirement already satisfied: h11<0.10,>=0.8 in c:\\users\\yilma\\appdata\\local\\programs\\python\\python310\\lib\\site-packages (from httpcore==0.9.*->httpx==0.13.3->googletrans) (0.9.0)\n",
      "Requirement already satisfied: h2==3.* in c:\\users\\yilma\\appdata\\local\\programs\\python\\python310\\lib\\site-packages (from httpcore==0.9.*->httpx==0.13.3->googletrans) (3.2.0)\n",
      "Requirement already satisfied: hyperframe<6,>=5.2.0 in c:\\users\\yilma\\appdata\\local\\programs\\python\\python310\\lib\\site-packages (from h2==3.*->httpcore==0.9.*->httpx==0.13.3->googletrans) (5.2.0)\n",
      "Requirement already satisfied: hpack<4,>=3.0 in c:\\users\\yilma\\appdata\\local\\programs\\python\\python310\\lib\\site-packages (from h2==3.*->httpcore==0.9.*->httpx==0.13.3->googletrans) (3.0.0)\n"
     ]
    },
    {
     "name": "stderr",
     "output_type": "stream",
     "text": [
      "\n",
      "[notice] A new release of pip available: 22.3.1 -> 23.0.1\n",
      "[notice] To update, run: python.exe -m pip install --upgrade pip\n"
     ]
    },
    {
     "name": "stdout",
     "output_type": "stream",
     "text": [
      "Requirement already satisfied: gTTS in c:\\users\\yilma\\appdata\\local\\programs\\python\\python310\\lib\\site-packages (2.3.1)"
     ]
    },
    {
     "name": "stderr",
     "output_type": "stream",
     "text": [
      "\n",
      "[notice] A new release of pip available: 22.3.1 -> 23.0.1\n",
      "[notice] To update, run: python.exe -m pip install --upgrade pip\n"
     ]
    },
    {
     "name": "stdout",
     "output_type": "stream",
     "text": [
      "\n",
      "Requirement already satisfied: click<8.2,>=7.1 in c:\\users\\yilma\\appdata\\roaming\\python\\python310\\site-packages (from gTTS) (8.1.3)\n",
      "Requirement already satisfied: requests<3,>=2.27 in c:\\users\\yilma\\appdata\\roaming\\python\\python310\\site-packages (from gTTS) (2.28.2)\n",
      "Requirement already satisfied: colorama in c:\\users\\yilma\\appdata\\roaming\\python\\python310\\site-packages (from click<8.2,>=7.1->gTTS) (0.4.6)\n",
      "Requirement already satisfied: urllib3<1.27,>=1.21.1 in c:\\users\\yilma\\appdata\\local\\programs\\python\\python310\\lib\\site-packages (from requests<3,>=2.27->gTTS) (1.26.15)\n",
      "Requirement already satisfied: idna<4,>=2.5 in c:\\users\\yilma\\appdata\\local\\programs\\python\\python310\\lib\\site-packages (from requests<3,>=2.27->gTTS) (2.10)\n",
      "Requirement already satisfied: charset-normalizer<4,>=2 in c:\\users\\yilma\\appdata\\roaming\\python\\python310\\site-packages (from requests<3,>=2.27->gTTS) (3.1.0)\n",
      "Requirement already satisfied: certifi>=2017.4.17 in c:\\users\\yilma\\appdata\\roaming\\python\\python310\\site-packages (from requests<3,>=2.27->gTTS) (2022.12.7)\n",
      "Requirement already satisfied: gTTS-token in c:\\users\\yilma\\appdata\\local\\programs\\python\\python310\\lib\\site-packages (1.1.4)\n",
      "Requirement already satisfied: requests in c:\\users\\yilma\\appdata\\roaming\\python\\python310\\site-packages (from gTTS-token) (2.28.2)\n",
      "Requirement already satisfied: idna<4,>=2.5 in c:\\users\\yilma\\appdata\\local\\programs\\python\\python310\\lib\\site-packages (from requests->gTTS-token) (2.10)\n",
      "Requirement already satisfied: urllib3<1.27,>=1.21.1 in c:\\users\\yilma\\appdata\\local\\programs\\python\\python310\\lib\\site-packages (from requests->gTTS-token) (1.26.15)\n",
      "Requirement already satisfied: charset-normalizer<4,>=2 in c:\\users\\yilma\\appdata\\roaming\\python\\python310\\site-packages (from requests->gTTS-token) (3.1.0)\n",
      "Requirement already satisfied: certifi>=2017.4.17 in c:\\users\\yilma\\appdata\\roaming\\python\\python310\\site-packages (from requests->gTTS-token) (2022.12.7)\n"
     ]
    },
    {
     "name": "stderr",
     "output_type": "stream",
     "text": [
      "\n",
      "[notice] A new release of pip available: 22.3.1 -> 23.0.1\n",
      "[notice] To update, run: python.exe -m pip install --upgrade pip\n",
      "ERROR: Could not find a version that satisfies the requirement os (from versions: none)\n",
      "ERROR: No matching distribution found for os\n",
      "\n",
      "[notice] A new release of pip available: 22.3.1 -> 23.0.1\n",
      "[notice] To update, run: python.exe -m pip install --upgrade pip\n"
     ]
    },
    {
     "name": "stdout",
     "output_type": "stream",
     "text": [
      "Requirement already satisfied: pyaudio in c:\\users\\yilma\\appdata\\roaming\\python\\python310\\site-packages (0.2.13)\n"
     ]
    },
    {
     "name": "stderr",
     "output_type": "stream",
     "text": [
      "\n",
      "[notice] A new release of pip available: 22.3.1 -> 23.0.1\n",
      "[notice] To update, run: python.exe -m pip install --upgrade pip\n"
     ]
    },
    {
     "name": "stdout",
     "output_type": "stream",
     "text": [
      "Requirement already satisfied: deep-translator in c:\\users\\yilma\\appdata\\roaming\\python\\python310\\site-packages (1.10.1)\n",
      "Requirement already satisfied: requests<3.0.0,>=2.23.0 in c:\\users\\yilma\\appdata\\roaming\\python\\python310\\site-packages (from deep-translator) (2.28.2)\n",
      "Requirement already satisfied: beautifulsoup4<5.0.0,>=4.9.1 in c:\\users\\yilma\\appdata\\roaming\\python\\python310\\site-packages (from deep-translator) (4.12.0)\n",
      "Requirement already satisfied: soupsieve>1.2 in c:\\users\\yilma\\appdata\\local\\programs\\python\\python310\\lib\\site-packages (from beautifulsoup4<5.0.0,>=4.9.1->deep-translator) (2.4)\n",
      "Requirement already satisfied: idna<4,>=2.5 in c:\\users\\yilma\\appdata\\local\\programs\\python\\python310\\lib\\site-packages (from requests<3.0.0,>=2.23.0->deep-translator) (2.10)\n",
      "Requirement already satisfied: certifi>=2017.4.17 in c:\\users\\yilma\\appdata\\roaming\\python\\python310\\site-packages (from requests<3.0.0,>=2.23.0->deep-translator) (2022.12.7)\n",
      "Requirement already satisfied: urllib3<1.27,>=1.21.1 in c:\\users\\yilma\\appdata\\local\\programs\\python\\python310\\lib\\site-packages (from requests<3.0.0,>=2.23.0->deep-translator) (1.26.15)\n",
      "Requirement already satisfied: charset-normalizer<4,>=2 in c:\\users\\yilma\\appdata\\roaming\\python\\python310\\site-packages (from requests<3.0.0,>=2.23.0->deep-translator) (3.1.0)\n"
     ]
    },
    {
     "name": "stderr",
     "output_type": "stream",
     "text": [
      "\n",
      "[notice] A new release of pip available: 22.3.1 -> 23.0.1\n",
      "[notice] To update, run: python.exe -m pip install --upgrade pip\n"
     ]
    },
    {
     "name": "stdout",
     "output_type": "stream",
     "text": [
      "Collecting detectlanguage\n",
      "  Using cached detectlanguage-1.5.0-py3-none-any.whl\n",
      "Requirement already satisfied: requests>=2.4.2 in c:\\users\\yilma\\appdata\\roaming\\python\\python310\\site-packages (from detectlanguage) (2.28.2)\n",
      "Requirement already satisfied: idna<4,>=2.5 in c:\\users\\yilma\\appdata\\local\\programs\\python\\python310\\lib\\site-packages (from requests>=2.4.2->detectlanguage) (2.10)\n",
      "Requirement already satisfied: certifi>=2017.4.17 in c:\\users\\yilma\\appdata\\roaming\\python\\python310\\site-packages (from requests>=2.4.2->detectlanguage) (2022.12.7)\n",
      "Requirement already satisfied: charset-normalizer<4,>=2 in c:\\users\\yilma\\appdata\\roaming\\python\\python310\\site-packages (from requests>=2.4.2->detectlanguage) (3.1.0)\n",
      "Requirement already satisfied: urllib3<1.27,>=1.21.1 in c:\\users\\yilma\\appdata\\local\\programs\\python\\python310\\lib\\site-packages (from requests>=2.4.2->detectlanguage) (1.26.15)\n",
      "Installing collected packages: detectlanguage\n",
      "Successfully installed detectlanguage-1.5.0\n"
     ]
    },
    {
     "name": "stderr",
     "output_type": "stream",
     "text": [
      "\n",
      "[notice] A new release of pip available: 22.3.1 -> 23.0.1\n",
      "[notice] To update, run: python.exe -m pip install --upgrade pip\n"
     ]
    },
    {
     "name": "stdout",
     "output_type": "stream",
     "text": [
      "Collecting dotenv\n",
      "  Using cached dotenv-0.0.5.tar.gz (2.4 kB)\n",
      "  Preparing metadata (setup.py): started\n",
      "  Preparing metadata (setup.py): finished with status 'error'\n"
     ]
    },
    {
     "name": "stderr",
     "output_type": "stream",
     "text": [
      "  error: subprocess-exited-with-error\n",
      "  \n",
      "  python setup.py egg_info did not run successfully.\n",
      "  exit code: 1\n",
      "  \n",
      "  [66 lines of output]\n",
      "  C:\\Users\\yilma\\AppData\\Local\\Programs\\Python\\Python310\\lib\\site-packages\\setuptools\\installer.py:27: SetuptoolsDeprecationWarning: setuptools.installer is deprecated. Requirements should be satisfied by a PEP 517 installer.\n",
      "    warnings.warn(\n",
      "    error: subprocess-exited-with-error\n",
      "  \n",
      "    python setup.py egg_info did not run successfully.\n",
      "    exit code: 1\n",
      "  \n",
      "    [16 lines of output]\n",
      "    Traceback (most recent call last):\n",
      "      File \"<string>\", line 2, in <module>\n",
      "      File \"<pip-setuptools-caller>\", line 14, in <module>\n",
      "      File \"C:\\Users\\yilma\\AppData\\Local\\Temp\\pip-wheel-rqnhmoun\\distribute_8ec8d125d3a342b982014413c6591dda\\setuptools\\__init__.py\", line 2, in <module>\n",
      "        from setuptools.extension import Extension, Library\n",
      "      File \"C:\\Users\\yilma\\AppData\\Local\\Temp\\pip-wheel-rqnhmoun\\distribute_8ec8d125d3a342b982014413c6591dda\\setuptools\\extension.py\", line 5, in <module>\n",
      "        from setuptools.dist import _get_unpatched\n",
      "      File \"C:\\Users\\yilma\\AppData\\Local\\Temp\\pip-wheel-rqnhmoun\\distribute_8ec8d125d3a342b982014413c6591dda\\setuptools\\dist.py\", line 7, in <module>\n",
      "        from setuptools.command.install import install\n",
      "      File \"C:\\Users\\yilma\\AppData\\Local\\Temp\\pip-wheel-rqnhmoun\\distribute_8ec8d125d3a342b982014413c6591dda\\setuptools\\command\\__init__.py\", line 8, in <module>\n",
      "        from setuptools.command import install_scripts\n",
      "      File \"C:\\Users\\yilma\\AppData\\Local\\Temp\\pip-wheel-rqnhmoun\\distribute_8ec8d125d3a342b982014413c6591dda\\setuptools\\command\\install_scripts.py\", line 3, in <module>\n",
      "        from pkg_resources import Distribution, PathMetadata, ensure_directory\n",
      "      File \"C:\\Users\\yilma\\AppData\\Local\\Temp\\pip-wheel-rqnhmoun\\distribute_8ec8d125d3a342b982014413c6591dda\\pkg_resources.py\", line 1518, in <module>\n",
      "        register_loader_type(importlib_bootstrap.SourceFileLoader, DefaultProvider)\n",
      "    AttributeError: module 'importlib._bootstrap' has no attribute 'SourceFileLoader'\n",
      "    [end of output]\n",
      "  \n",
      "    note: This error originates from a subprocess, and is likely not a problem with pip.\n",
      "  error: metadata-generation-failed\n",
      "  \n",
      "  Encountered error while generating package metadata.\n",
      "  \n",
      "  See above for output.\n",
      "  \n",
      "  note: This is an issue with the package mentioned above, not pip.\n",
      "  hint: See above for details.\n",
      "  Traceback (most recent call last):\n",
      "    File \"C:\\Users\\yilma\\AppData\\Local\\Programs\\Python\\Python310\\lib\\site-packages\\setuptools\\installer.py\", line 82, in fetch_build_egg\n",
      "      subprocess.check_call(cmd)\n",
      "    File \"C:\\Users\\yilma\\AppData\\Local\\Programs\\Python\\Python310\\lib\\subprocess.py\", line 369, in check_call\n",
      "      raise CalledProcessError(retcode, cmd)\n",
      "  subprocess.CalledProcessError: Command '['C:\\\\Users\\\\yilma\\\\AppData\\\\Local\\\\Programs\\\\Python\\\\Python310\\\\python.exe', '-m', 'pip', '--disable-pip-version-check', 'wheel', '--no-deps', '-w', 'C:\\\\Users\\\\yilma\\\\AppData\\\\Local\\\\Temp\\\\tmpljanxlaq', '--quiet', 'distribute']' returned non-zero exit status 1.\n",
      "  \n",
      "  The above exception was the direct cause of the following exception:\n",
      "  \n",
      "  Traceback (most recent call last):\n",
      "    File \"<string>\", line 2, in <module>\n",
      "    File \"<pip-setuptools-caller>\", line 34, in <module>\n",
      "    File \"C:\\Users\\yilma\\AppData\\Local\\Temp\\pip-install-pg2pl74n\\dotenv_6c8158f7c9f04bb4ac02bf056dd9f58e\\setup.py\", line 13, in <module>\n",
      "      setup(name='dotenv',\n",
      "    File \"C:\\Users\\yilma\\AppData\\Local\\Programs\\Python\\Python310\\lib\\site-packages\\setuptools\\__init__.py\", line 86, in setup\n",
      "      _install_setup_requires(attrs)\n",
      "    File \"C:\\Users\\yilma\\AppData\\Local\\Programs\\Python\\Python310\\lib\\site-packages\\setuptools\\__init__.py\", line 80, in _install_setup_requires\n",
      "      dist.fetch_build_eggs(dist.setup_requires)\n",
      "    File \"C:\\Users\\yilma\\AppData\\Local\\Programs\\Python\\Python310\\lib\\site-packages\\setuptools\\dist.py\", line 875, in fetch_build_eggs\n",
      "      resolved_dists = pkg_resources.working_set.resolve(\n",
      "    File \"C:\\Users\\yilma\\AppData\\Local\\Programs\\Python\\Python310\\lib\\site-packages\\pkg_resources\\__init__.py\", line 789, in resolve\n",
      "      dist = best[req.key] = env.best_match(\n",
      "    File \"C:\\Users\\yilma\\AppData\\Local\\Programs\\Python\\Python310\\lib\\site-packages\\pkg_resources\\__init__.py\", line 1075, in best_match\n",
      "      return self.obtain(req, installer)\n",
      "    File \"C:\\Users\\yilma\\AppData\\Local\\Programs\\Python\\Python310\\lib\\site-packages\\pkg_resources\\__init__.py\", line 1087, in obtain\n",
      "      return installer(requirement)\n",
      "    File \"C:\\Users\\yilma\\AppData\\Local\\Programs\\Python\\Python310\\lib\\site-packages\\setuptools\\dist.py\", line 945, in fetch_build_egg\n",
      "      return fetch_build_egg(self, req)\n",
      "    File \"C:\\Users\\yilma\\AppData\\Local\\Programs\\Python\\Python310\\lib\\site-packages\\setuptools\\installer.py\", line 84, in fetch_build_egg\n",
      "      raise DistutilsError(str(e)) from e\n",
      "  distutils.errors.DistutilsError: Command '['C:\\\\Users\\\\yilma\\\\AppData\\\\Local\\\\Programs\\\\Python\\\\Python310\\\\python.exe', '-m', 'pip', '--disable-pip-version-check', 'wheel', '--no-deps', '-w', 'C:\\\\Users\\\\yilma\\\\AppData\\\\Local\\\\Temp\\\\tmpljanxlaq', '--quiet', 'distribute']' returned non-zero exit status 1.\n",
      "  [end of output]\n",
      "  \n",
      "  note: This error originates from a subprocess, and is likely not a problem with pip.\n",
      "error: metadata-generation-failed\n",
      "\n",
      "Encountered error while generating package metadata.\n",
      "\n",
      "See above for output.\n",
      "\n",
      "note: This is an issue with the package mentioned above, not pip.\n",
      "hint: See above for details.\n",
      "\n",
      "[notice] A new release of pip available: 22.3.1 -> 23.0.1\n",
      "[notice] To update, run: python.exe -m pip install --upgrade pip\n"
     ]
    }
   ],
   "source": [
    "import detectlanguage as detectlanguage\n",
    "!pip install playsound --user\n",
    "!pip install SpeechRecognition --user\n",
    "!pip install googletrans --user\n",
    "!pip install gTTS --user\n",
    "!pip install gTTS-token --user\n",
    "!pip install os --user\n",
    "!pip install pyaudio --user\n",
    "!pip install deep-translator --user\n",
    "!pip install detectlanguage --user\n",
    "!pip install googletrans==3.1.0a0 --user\n",
    "!pip install dotenv-python --user\n",
    "!pip install marian-translator --user"
   ],
   "metadata": {
    "collapsed": false
   }
  },
  {
   "cell_type": "markdown",
   "source": [
    "## Talk is cheap, show me the code!"
   ],
   "metadata": {
    "collapsed": false
   }
  },
  {
   "cell_type": "markdown",
   "source": [
    "#### Importing Necessary Modules"
   ],
   "metadata": {
    "collapsed": false
   }
  },
  {
   "cell_type": "code",
   "execution_count": 2,
   "metadata": {
    "collapsed": true
   },
   "outputs": [],
   "source": [
    "import os\n",
    "\n",
    "import speech_recognition as sr\n",
    "from gtts import gTTS\n",
    "from playsound import playsound"
   ]
  },
  {
   "cell_type": "markdown",
   "source": [
    "#### A tuple of all the languages mapped with their code"
   ],
   "metadata": {
    "collapsed": false
   }
  },
  {
   "cell_type": "code",
   "execution_count": 3,
   "outputs": [],
   "source": [
    "flag = 0\n",
    "\n",
    "# A tuple containing all the language and\n",
    "# codes of the language will be detected\n",
    "dic = (\n",
    "    'afrikaans', 'af',\n",
    "    'albanian', 'sq',\n",
    "    'amharic', 'am',\n",
    "    'arabic', 'ar',\n",
    "    'armenian', 'hy',\n",
    "    'azerbaijani', 'az',\n",
    "    'basque', 'eu',\n",
    "    'belarusian', 'be',\n",
    "    'bengali', 'bn',\n",
    "    'bosnian', 'bs',\n",
    "    'bulgarian', 'bg',\n",
    "    'catalan', 'ca',\n",
    "    'cebuano', 'ceb',\n",
    "    'chichewa', 'ny',\n",
    "    'chinese (simplified)', 'zh-cn',\n",
    "    'chinese (traditional)', 'zh-tw',\n",
    "    'corsican', 'co',\n",
    "    'croatian', 'hr',\n",
    "    'czech', 'cs',\n",
    "    'danish', 'da',\n",
    "    'dutch', 'nl',\n",
    "    'english', 'en',\n",
    "    'esperanto', 'eo',\n",
    "    'estonian', 'et',\n",
    "    'filipino', 'tl',\n",
    "    'finnish', 'fi',\n",
    "    'french', 'fr',\n",
    "    'frisian', 'fy',\n",
    "    'galician', 'gl',\n",
    "    'georgian', 'ka',\n",
    "    'german', 'de',\n",
    "    'greek', 'el',\n",
    "    'gujarati', 'gu',\n",
    "    'haitian creole', 'ht',\n",
    "    'hausa', 'ha',\n",
    "    'hawaiian', 'haw',\n",
    "    'hebrew', 'he',\n",
    "    'hindi', 'hi',\n",
    "    'hmong', 'hmn',\n",
    "    'hungarian', 'hu',\n",
    "    'icelandic', 'is',\n",
    "    'igbo', 'ig',\n",
    "    'indonesian', 'id',\n",
    "    'irish', 'ga',\n",
    "    'italian', 'it',\n",
    "    'japanese', 'ja',\n",
    "    'javanese', 'jw',\n",
    "    'kannada', 'kn',\n",
    "    'kazakh', 'kk',\n",
    "    'khmer', 'km',\n",
    "    'korean', 'ko',\n",
    "    'kurdish (kurmanji)', 'ku',\n",
    "    'kyrgyz', 'ky',\n",
    "    'lao', 'lo',\n",
    "    'latin', 'la',\n",
    "    'latvian', 'lv',\n",
    "    'lithuanian', 'lt',\n",
    "    'luxembourgish', 'lb',\n",
    "    'macedonian', 'mk',\n",
    "    'malagasy', 'mg',\n",
    "    'malay', 'ms',\n",
    "    'malayalam', 'ml',\n",
    "    'maltese', 'mt',\n",
    "    'maori', 'mi',\n",
    "    'marathi', 'mr',\n",
    "    'mongolian', 'mn',\n",
    "    'myanmar (burmese)', 'my',\n",
    "    'nepali', 'ne',\n",
    "    'norwegian', 'no',\n",
    "    'odia', 'or',\n",
    "    'pashto', 'ps',\n",
    "    'persian', 'fa',\n",
    "    'polish', 'pl',\n",
    "    'portuguese', 'pt',\n",
    "    'punjabi', 'pa',\n",
    "    'romanian', 'ro',\n",
    "    'russian', 'ru',\n",
    "    'samoan', 'sm',\n",
    "    'scots gaelic', 'gd',\n",
    "    'serbian', 'sr',\n",
    "    'sesotho', 'st',\n",
    "    'shona', 'sn',\n",
    "    'sindhi', 'sd',\n",
    "    'sinhala', 'si',\n",
    "    'slovak', 'sk',\n",
    "    'slovenian', 'sl',\n",
    "    'somali', 'so',\n",
    "    'spanish', 'es',\n",
    "    'sundanese', 'su',\n",
    "    'swahili', 'sw',\n",
    "    'swedish', 'sv',\n",
    "    'tajik', 'tg',\n",
    "    'tamil', 'ta',\n",
    "    'telugu', 'te',\n",
    "    'thai', 'th',\n",
    "    'turkish', 'tr',\n",
    "    'ukrainian', 'uk',\n",
    "    'urdu', 'ur',\n",
    "    'uyghur', 'ug',\n",
    "    'uzbek', 'uz',\n",
    "    'vietnamese', 'vi',\n",
    "    'welsh', 'cy',\n",
    "    'xhosa', 'xh',\n",
    "    'yiddish', 'yi',\n",
    "    'yoruba', 'yo',\n",
    "    'zulu', 'zu'\n",
    ")\n"
   ],
   "metadata": {
    "collapsed": false
   }
  },
  {
   "cell_type": "markdown",
   "source": [
    "#### Taking voice commands from the user\n",
    "\n",
    "Taking voice commands from the user and converting it to text. The text is then translated to the desired language and converted to speech. The speech is then played using the playsound module. The user can also save the speech as an mp3 file."
   ],
   "metadata": {
    "collapsed": false
   }
  },
  {
   "cell_type": "code",
   "execution_count": 4,
   "outputs": [
    {
     "name": "stdout",
     "output_type": "stream",
     "text": [
      "\n",
      "    Your default language is en-be. If you want to change it, please enter the language code from the list below.\n",
      "    ('afrikaans', 'af', 'albanian', 'sq', 'amharic', 'am', 'arabic', 'ar', 'armenian', 'hy', 'azerbaijani', 'az', 'basque', 'eu', 'belarusian', 'be', 'bengali', 'bn', 'bosnian', 'bs', 'bulgarian', 'bg', 'catalan', 'ca', 'cebuano', 'ceb', 'chichewa', 'ny', 'chinese (simplified)', 'zh-cn', 'chinese (traditional)', 'zh-tw', 'corsican', 'co', 'croatian', 'hr', 'czech', 'cs', 'danish', 'da', 'dutch', 'nl', 'english', 'en', 'esperanto', 'eo', 'estonian', 'et', 'filipino', 'tl', 'finnish', 'fi', 'french', 'fr', 'frisian', 'fy', 'galician', 'gl', 'georgian', 'ka', 'german', 'de', 'greek', 'el', 'gujarati', 'gu', 'haitian creole', 'ht', 'hausa', 'ha', 'hawaiian', 'haw', 'hebrew', 'he', 'hindi', 'hi', 'hmong', 'hmn', 'hungarian', 'hu', 'icelandic', 'is', 'igbo', 'ig', 'indonesian', 'id', 'irish', 'ga', 'italian', 'it', 'japanese', 'ja', 'javanese', 'jw', 'kannada', 'kn', 'kazakh', 'kk', 'khmer', 'km', 'korean', 'ko', 'kurdish (kurmanji)', 'ku', 'kyrgyz', 'ky', 'lao', 'lo', 'latin', 'la', 'latvian', 'lv', 'lithuanian', 'lt', 'luxembourgish', 'lb', 'macedonian', 'mk', 'malagasy', 'mg', 'malay', 'ms', 'malayalam', 'ml', 'maltese', 'mt', 'maori', 'mi', 'marathi', 'mr', 'mongolian', 'mn', 'myanmar (burmese)', 'my', 'nepali', 'ne', 'norwegian', 'no', 'odia', 'or', 'pashto', 'ps', 'persian', 'fa', 'polish', 'pl', 'portuguese', 'pt', 'punjabi', 'pa', 'romanian', 'ro', 'russian', 'ru', 'samoan', 'sm', 'scots gaelic', 'gd', 'serbian', 'sr', 'sesotho', 'st', 'shona', 'sn', 'sindhi', 'sd', 'sinhala', 'si', 'slovak', 'sk', 'slovenian', 'sl', 'somali', 'so', 'spanish', 'es', 'sundanese', 'su', 'swahili', 'sw', 'swedish', 'sv', 'tajik', 'tg', 'tamil', 'ta', 'telugu', 'te', 'thai', 'th', 'turkish', 'tr', 'ukrainian', 'uk', 'urdu', 'ur', 'uyghur', 'ug', 'uzbek', 'uz', 'vietnamese', 'vi', 'welsh', 'cy', 'xhosa', 'xh', 'yiddish', 'yi', 'yoruba', 'yo', 'zulu', 'zu')\n",
      "    \n"
     ]
    }
   ],
   "source": [
    "# Read the source language from the operating system's language\n",
    "import locale\n",
    "source_language = locale.getdefaultlocale()[0]\n",
    "source_language = source_language.replace(\"_\", \"-\").lower()\n",
    "from_lang = source_language.split(\"-\")[0]\n",
    "\n",
    "print(\n",
    "    \"\"\"\n",
    "    Your default language is {source_language}. If you want to change it, please enter the language code from the list below.\n",
    "    {dic}\n",
    "    \"\"\".format(\n",
    "        source_language=source_language,\n",
    "        dic=dic\n",
    "    )\n",
    ")"
   ],
   "metadata": {
    "collapsed": false
   }
  },
  {
   "cell_type": "code",
   "execution_count": 5,
   "outputs": [],
   "source": [
    "# Capture Voice\n",
    "def take_command():\n",
    "    \"\"\"\n",
    "    It takes microphone input from the user\n",
    "    @return: string output from the user's voice\n",
    "    \"\"\"\n",
    "    r = sr.Recognizer()\n",
    "    with sr.Microphone() as source:\n",
    "        print(\"listening.....\")\n",
    "        r.pause_threshold = 1\n",
    "        audio = r.listen(source)\n",
    "\n",
    "    try:\n",
    "        print(\"Recognizing.....\")\n",
    "        query = r.recognize_google(\n",
    "            audio, language=source_language\n",
    "        )\n",
    "        print(f\"The User said {query}\\n\")\n",
    "    except Exception as e:\n",
    "        print(\"say that again please.....\")\n",
    "        return \"None\"\n",
    "\n",
    "    return query"
   ],
   "metadata": {
    "collapsed": false
   }
  },
  {
   "cell_type": "markdown",
   "source": [
    "#### Converting user voice to text"
   ],
   "metadata": {
    "collapsed": false
   }
  },
  {
   "cell_type": "code",
   "execution_count": 6,
   "outputs": [
    {
     "name": "stdout",
     "output_type": "stream",
     "text": [
      "listening.....\n",
      "Recognizing.....\n",
      "The User said so how are you doing\n",
      "\n"
     ]
    }
   ],
   "source": [
    "# Input from user\n",
    "# Make input to lowercase\n",
    "query = take_command()\n",
    "while \"None\" == query:\n",
    "    query = take_command()\n",
    "\n",
    "query = query.lower()"
   ],
   "metadata": {
    "collapsed": false
   }
  },
  {
   "cell_type": "markdown",
   "source": [
    "#### Input destination language from the user\n",
    "\n",
    "Mapping user input with the language code"
   ],
   "metadata": {
    "collapsed": false
   }
  },
  {
   "cell_type": "code",
   "execution_count": 7,
   "outputs": [],
   "source": [
    "def destination_language():\n",
    "    print(\"Destination: Ex. Dutch, English, Turkish etc.\")\n",
    "    print()\n",
    "\n",
    "    # Input destination language in\n",
    "    # which the user wants to translate\n",
    "    to_lang = take_command()\n",
    "\n",
    "    while \"None\" == to_lang:\n",
    "        to_lang = take_command()\n",
    "\n",
    "    to_lang = to_lang.lower()\n",
    "    return to_lang\n"
   ],
   "metadata": {
    "collapsed": false
   }
  },
  {
   "cell_type": "code",
   "execution_count": 8,
   "outputs": [
    {
     "name": "stdout",
     "output_type": "stream",
     "text": [
      "Destination: Ex. Dutch, English, Turkish etc.\n",
      "\n",
      "listening.....\n",
      "Recognizing.....\n",
      "The User said Dutch\n",
      "\n"
     ]
    }
   ],
   "source": [
    "to_lang = destination_language()\n",
    "\n",
    "# Mapping it with the code\n",
    "while (to_lang not in dic):\n",
    "    print(\"Language in which you are trying to convert is currently not available, please input some other language.\")\n",
    "    print()\n",
    "    to_lang = destination_language()\n",
    "\n",
    "to_lang = dic[dic.index(to_lang) + 1]"
   ],
   "metadata": {
    "collapsed": false
   }
  },
  {
   "cell_type": "markdown",
   "source": [
    "#### Invoking Translator"
   ],
   "metadata": {
    "collapsed": false
   }
  },
  {
   "cell_type": "code",
   "execution_count": 9,
   "outputs": [],
   "source": [
    "from deep_translator import (GoogleTranslator,\n",
    "                             MicrosoftTranslator,\n",
    "                             PonsTranslator,\n",
    "                             LingueeTranslator,\n",
    "                             MyMemoryTranslator,\n",
    "                             YandexTranslator,\n",
    "                             PapagoTranslator,\n",
    "                             DeeplTranslator,\n",
    "                             QcriTranslator,\n",
    "                             single_detection,\n",
    "                             batch_detection)\n",
    "\n",
    "translator = GoogleTranslator(\n",
    "    source=from_lang,\n",
    "    target=to_lang\n",
    ")"
   ],
   "metadata": {
    "collapsed": false
   }
  },
  {
   "cell_type": "markdown",
   "source": [
    "#### Check Supported Languages\n",
    "\n",
    "To make sure that the language is supported by the translator and the language code is correct."
   ],
   "metadata": {
    "collapsed": false
   }
  },
  {
   "cell_type": "code",
   "execution_count": 11,
   "outputs": [
    {
     "name": "stdout",
     "output_type": "stream",
     "text": [
      "\n",
      "    Supported Languages: {'afrikaans': 'af', 'albanian': 'sq', 'amharic': 'am', 'arabic': 'ar', 'armenian': 'hy', 'assamese': 'as', 'aymara': 'ay', 'azerbaijani': 'az', 'bambara': 'bm', 'basque': 'eu', 'belarusian': 'be', 'bengali': 'bn', 'bhojpuri': 'bho', 'bosnian': 'bs', 'bulgarian': 'bg', 'catalan': 'ca', 'cebuano': 'ceb', 'chichewa': 'ny', 'chinese (simplified)': 'zh-CN', 'chinese (traditional)': 'zh-TW', 'corsican': 'co', 'croatian': 'hr', 'czech': 'cs', 'danish': 'da', 'dhivehi': 'dv', 'dogri': 'doi', 'dutch': 'nl', 'english': 'en', 'esperanto': 'eo', 'estonian': 'et', 'ewe': 'ee', 'filipino': 'tl', 'finnish': 'fi', 'french': 'fr', 'frisian': 'fy', 'galician': 'gl', 'georgian': 'ka', 'german': 'de', 'greek': 'el', 'guarani': 'gn', 'gujarati': 'gu', 'haitian creole': 'ht', 'hausa': 'ha', 'hawaiian': 'haw', 'hebrew': 'iw', 'hindi': 'hi', 'hmong': 'hmn', 'hungarian': 'hu', 'icelandic': 'is', 'igbo': 'ig', 'ilocano': 'ilo', 'indonesian': 'id', 'irish': 'ga', 'italian': 'it', 'japanese': 'ja', 'javanese': 'jw', 'kannada': 'kn', 'kazakh': 'kk', 'khmer': 'km', 'kinyarwanda': 'rw', 'konkani': 'gom', 'korean': 'ko', 'krio': 'kri', 'kurdish (kurmanji)': 'ku', 'kurdish (sorani)': 'ckb', 'kyrgyz': 'ky', 'lao': 'lo', 'latin': 'la', 'latvian': 'lv', 'lingala': 'ln', 'lithuanian': 'lt', 'luganda': 'lg', 'luxembourgish': 'lb', 'macedonian': 'mk', 'maithili': 'mai', 'malagasy': 'mg', 'malay': 'ms', 'malayalam': 'ml', 'maltese': 'mt', 'maori': 'mi', 'marathi': 'mr', 'meiteilon (manipuri)': 'mni-Mtei', 'mizo': 'lus', 'mongolian': 'mn', 'myanmar': 'my', 'nepali': 'ne', 'norwegian': 'no', 'odia (oriya)': 'or', 'oromo': 'om', 'pashto': 'ps', 'persian': 'fa', 'polish': 'pl', 'portuguese': 'pt', 'punjabi': 'pa', 'quechua': 'qu', 'romanian': 'ro', 'russian': 'ru', 'samoan': 'sm', 'sanskrit': 'sa', 'scots gaelic': 'gd', 'sepedi': 'nso', 'serbian': 'sr', 'sesotho': 'st', 'shona': 'sn', 'sindhi': 'sd', 'sinhala': 'si', 'slovak': 'sk', 'slovenian': 'sl', 'somali': 'so', 'spanish': 'es', 'sundanese': 'su', 'swahili': 'sw', 'swedish': 'sv', 'tajik': 'tg', 'tamil': 'ta', 'tatar': 'tt', 'telugu': 'te', 'thai': 'th', 'tigrinya': 'ti', 'tsonga': 'ts', 'turkish': 'tr', 'turkmen': 'tk', 'twi': 'ak', 'ukrainian': 'uk', 'urdu': 'ur', 'uyghur': 'ug', 'uzbek': 'uz', 'vietnamese': 'vi', 'welsh': 'cy', 'xhosa': 'xh', 'yiddish': 'yi', 'yoruba': 'yo', 'zulu': 'zu'}\n",
      "    \n"
     ]
    }
   ],
   "source": [
    "# default return type is a list\n",
    "langs_list = GoogleTranslator().get_supported_languages()  # output: [arabic, french, english etc...]\n",
    "\n",
    "# alternatively, you can the dictionary containing languages mapped to their abbreviation\n",
    "langs_dict = GoogleTranslator().get_supported_languages(as_dict=True)  # output: {arabic: ar, french: fr, english:en etc...}\n",
    "\n",
    "print(\n",
    "    \"\"\"\n",
    "    Supported Languages: {langs_dict}\n",
    "    \"\"\".format(\n",
    "        langs_dict=langs_dict\n",
    "    )\n",
    ")"
   ],
   "metadata": {
    "collapsed": false
   }
  },
  {
   "cell_type": "markdown",
   "source": [
    "#### Translating the text to the desired language"
   ],
   "metadata": {
    "collapsed": false
   }
  },
  {
   "cell_type": "code",
   "execution_count": 25,
   "outputs": [
    {
     "data": {
      "text/plain": "'dus hoe gaat het met je'"
     },
     "execution_count": 25,
     "metadata": {},
     "output_type": "execute_result"
    }
   ],
   "source": [
    "text = translator.translate(query)\n",
    "\n",
    "text"
   ],
   "metadata": {
    "collapsed": false
   }
  },
  {
   "cell_type": "markdown",
   "source": [
    "#### Detecting the language of the text\n",
    "\n",
    "Detecting the language of the text. This is useful when the user is not sure about the language of the text."
   ],
   "metadata": {
    "collapsed": false
   }
  },
  {
   "cell_type": "code",
   "execution_count": 23,
   "outputs": [
    {
     "ename": "Exception",
     "evalue": "you need to get an API_KEY for this to work. Get one for free here: https://detectlanguage.com/documentation",
     "output_type": "error",
     "traceback": [
      "\u001B[1;31m---------------------------------------------------------------------------\u001B[0m",
      "\u001B[1;31mException\u001B[0m                                 Traceback (most recent call last)",
      "Cell \u001B[1;32mIn[23], line 14\u001B[0m\n\u001B[0;32m     10\u001B[0m detectlanguage\u001B[38;5;241m.\u001B[39mconfiguration\u001B[38;5;241m.\u001B[39mapi_key \u001B[38;5;241m=\u001B[39m env\u001B[38;5;241m.\u001B[39mget(\u001B[38;5;124m'\u001B[39m\u001B[38;5;124mDETECT_LANGUAGE_API_KEY\u001B[39m\u001B[38;5;124m'\u001B[39m)\n\u001B[0;32m     12\u001B[0m \u001B[38;5;66;03m# single detection\u001B[39;00m\n\u001B[1;32m---> 14\u001B[0m \u001B[43msingle_detection\u001B[49m\u001B[43m(\u001B[49m\u001B[43mtext\u001B[49m\u001B[43m)\u001B[49m\n",
      "File \u001B[1;32m~\\Downloads\\mediapipe-keyboard\\mediapipe-sandbox\\venv\\lib\\site-packages\\deep_translator\\detection.py:75\u001B[0m, in \u001B[0;36msingle_detection\u001B[1;34m(text, api_key, detailed, *args, **kwargs)\u001B[0m\n\u001B[0;32m     58\u001B[0m \u001B[38;5;28;01mdef\u001B[39;00m \u001B[38;5;21msingle_detection\u001B[39m(\n\u001B[0;32m     59\u001B[0m     text: \u001B[38;5;28mstr\u001B[39m,\n\u001B[0;32m     60\u001B[0m     api_key: Optional[\u001B[38;5;28mstr\u001B[39m] \u001B[38;5;241m=\u001B[39m \u001B[38;5;28;01mNone\u001B[39;00m,\n\u001B[1;32m   (...)\u001B[0m\n\u001B[0;32m     63\u001B[0m     \u001B[38;5;241m*\u001B[39m\u001B[38;5;241m*\u001B[39mkwargs\n\u001B[0;32m     64\u001B[0m ):\n\u001B[0;32m     65\u001B[0m \u001B[38;5;250m    \u001B[39m\u001B[38;5;124;03m\"\"\"\u001B[39;00m\n\u001B[0;32m     66\u001B[0m \u001B[38;5;124;03m    function responsible for detecting the language from a text\u001B[39;00m\n\u001B[0;32m     67\u001B[0m \n\u001B[1;32m   (...)\u001B[0m\n\u001B[0;32m     73\u001B[0m \u001B[38;5;124;03m    information about the detection process\u001B[39;00m\n\u001B[0;32m     74\u001B[0m \u001B[38;5;124;03m    \"\"\"\u001B[39;00m\n\u001B[1;32m---> 75\u001B[0m     body \u001B[38;5;241m=\u001B[39m \u001B[43mget_request_body\u001B[49m\u001B[43m(\u001B[49m\u001B[43mtext\u001B[49m\u001B[43m,\u001B[49m\u001B[43m \u001B[49m\u001B[43mapi_key\u001B[49m\u001B[43m)\u001B[49m\n\u001B[0;32m     76\u001B[0m     detections \u001B[38;5;241m=\u001B[39m body\u001B[38;5;241m.\u001B[39mget(\u001B[38;5;124m\"\u001B[39m\u001B[38;5;124mdetections\u001B[39m\u001B[38;5;124m\"\u001B[39m)\n\u001B[0;32m     77\u001B[0m     \u001B[38;5;28;01mif\u001B[39;00m detailed:\n",
      "File \u001B[1;32m~\\Downloads\\mediapipe-keyboard\\mediapipe-sandbox\\venv\\lib\\site-packages\\deep_translator\\detection.py:35\u001B[0m, in \u001B[0;36mget_request_body\u001B[1;34m(text, api_key, *args, **kwargs)\u001B[0m\n\u001B[0;32m     25\u001B[0m \u001B[38;5;250m\u001B[39m\u001B[38;5;124;03m\"\"\"\u001B[39;00m\n\u001B[0;32m     26\u001B[0m \u001B[38;5;124;03msend a request and return the response body parsed as dictionary\u001B[39;00m\n\u001B[0;32m     27\u001B[0m \n\u001B[1;32m   (...)\u001B[0m\n\u001B[0;32m     32\u001B[0m \n\u001B[0;32m     33\u001B[0m \u001B[38;5;124;03m\"\"\"\u001B[39;00m\n\u001B[0;32m     34\u001B[0m \u001B[38;5;28;01mif\u001B[39;00m \u001B[38;5;129;01mnot\u001B[39;00m api_key:\n\u001B[1;32m---> 35\u001B[0m     \u001B[38;5;28;01mraise\u001B[39;00m \u001B[38;5;167;01mException\u001B[39;00m(\n\u001B[0;32m     36\u001B[0m         \u001B[38;5;124m\"\u001B[39m\u001B[38;5;124myou need to get an API_KEY for this to work. \u001B[39m\u001B[38;5;124m\"\u001B[39m\n\u001B[0;32m     37\u001B[0m         \u001B[38;5;124m\"\u001B[39m\u001B[38;5;124mGet one for free here: https://detectlanguage.com/documentation\u001B[39m\u001B[38;5;124m\"\u001B[39m\n\u001B[0;32m     38\u001B[0m     )\n\u001B[0;32m     39\u001B[0m \u001B[38;5;28;01mif\u001B[39;00m \u001B[38;5;129;01mnot\u001B[39;00m text:\n\u001B[0;32m     40\u001B[0m     \u001B[38;5;28;01mraise\u001B[39;00m \u001B[38;5;167;01mException\u001B[39;00m(\u001B[38;5;124m\"\u001B[39m\u001B[38;5;124mPlease provide an input text\u001B[39m\u001B[38;5;124m\"\u001B[39m)\n",
      "\u001B[1;31mException\u001B[0m: you need to get an API_KEY for this to work. Get one for free here: https://detectlanguage.com/documentation"
     ]
    }
   ],
   "source": [
    "# read the API KEY from environment variable named 'DETECT_LANGUAGE_API_KEY'\n",
    "# alternatively, you can pass the API KEY as a parameter however, it is not recommended due to security reasons.\n",
    "import detectlanguage\n",
    "\n",
    "# read the API KEY from .env file\n",
    "detectlanguage.configuration.api_key = os.getenv(\"DETECT_LANGUAGE_API_KEY\")\n",
    "\n",
    "# single detection\n",
    "single_detection(text)"
   ],
   "metadata": {
    "collapsed": false
   }
  },
  {
   "cell_type": "markdown",
   "source": [
    "#### Saving Translated files and deleting them after playing\n",
    "\n",
    "Saving the translated text as an mp3 file and deleting it after playing. The mp3 file is saved in the same directory as the python file. The mp3 file is named captured_voice.mp3."
   ],
   "metadata": {
    "collapsed": false
   }
  },
  {
   "cell_type": "code",
   "execution_count": 26,
   "outputs": [
    {
     "name": "stdout",
     "output_type": "stream",
     "text": [
      "gTTS language:  nl\n"
     ]
    }
   ],
   "source": [
    "# checking if gTTS language is correctly given\n",
    "print(\"gTTS language: \", to_lang)"
   ],
   "metadata": {
    "collapsed": false
   }
  },
  {
   "cell_type": "code",
   "execution_count": 33,
   "outputs": [],
   "source": [
    "# Using Google-Text-to-Speech ie, gTTS() method\n",
    "# to speak the translated text into the\n",
    "# destination language which is stored in to_lang.\n",
    "# Also, we have given 3rd argument as False because\n",
    "# by default it speaks very slowly\n",
    "speak = gTTS(text=text, lang=to_lang, slow=False)\n",
    "\n",
    "# Using save() method to save the translated\n",
    "# speech in capture_voice.mp3\n",
    "speak.save(\"captured_voice.mp3\")"
   ],
   "metadata": {
    "collapsed": false
   }
  },
  {
   "cell_type": "code",
   "execution_count": 34,
   "outputs": [
    {
     "name": "stderr",
     "output_type": "stream",
     "text": [
      "\n",
      "    Error 263 for command:\n",
      "        open captured_voice.mp3\n",
      "    The specified device is not open or is not recognized by MCI.\n",
      "\n",
      "    Error 263 for command:\n",
      "        close captured_voice.mp3\n",
      "    The specified device is not open or is not recognized by MCI.\n",
      "Failed to close the file: captured_voice.mp3\n"
     ]
    },
    {
     "ename": "PlaysoundException",
     "evalue": "\n    Error 263 for command:\n        open captured_voice.mp3\n    The specified device is not open or is not recognized by MCI.",
     "output_type": "error",
     "traceback": [
      "\u001B[1;31m---------------------------------------------------------------------------\u001B[0m",
      "\u001B[1;31mPlaysoundException\u001B[0m                        Traceback (most recent call last)",
      "Cell \u001B[1;32mIn[34], line 2\u001B[0m\n\u001B[0;32m      1\u001B[0m \u001B[38;5;66;03m# Playing the translated file\u001B[39;00m\n\u001B[1;32m----> 2\u001B[0m \u001B[43mplaysound\u001B[49m\u001B[43m(\u001B[49m\u001B[38;5;124;43m\"\u001B[39;49m\u001B[38;5;124;43mcaptured_voice.mp3\u001B[39;49m\u001B[38;5;124;43m\"\u001B[39;49m\u001B[43m)\u001B[49m\n",
      "File \u001B[1;32m~\\Downloads\\mediapipe-keyboard\\mediapipe-sandbox\\venv\\lib\\site-packages\\playsound.py:72\u001B[0m, in \u001B[0;36m_playsoundWin\u001B[1;34m(sound, block)\u001B[0m\n\u001B[0;32m     70\u001B[0m \u001B[38;5;28;01mtry\u001B[39;00m:\n\u001B[0;32m     71\u001B[0m     logger\u001B[38;5;241m.\u001B[39mdebug(\u001B[38;5;124m'\u001B[39m\u001B[38;5;124mStarting\u001B[39m\u001B[38;5;124m'\u001B[39m)\n\u001B[1;32m---> 72\u001B[0m     \u001B[43mwinCommand\u001B[49m\u001B[43m(\u001B[49m\u001B[38;5;124;43mu\u001B[39;49m\u001B[38;5;124;43m'\u001B[39;49m\u001B[38;5;124;43mopen \u001B[39;49m\u001B[38;5;132;43;01m{}\u001B[39;49;00m\u001B[38;5;124;43m'\u001B[39;49m\u001B[38;5;241;43m.\u001B[39;49m\u001B[43mformat\u001B[49m\u001B[43m(\u001B[49m\u001B[43msound\u001B[49m\u001B[43m)\u001B[49m\u001B[43m)\u001B[49m\n\u001B[0;32m     73\u001B[0m     winCommand(\u001B[38;5;124mu\u001B[39m\u001B[38;5;124m'\u001B[39m\u001B[38;5;124mplay \u001B[39m\u001B[38;5;132;01m{}\u001B[39;00m\u001B[38;5;132;01m{}\u001B[39;00m\u001B[38;5;124m'\u001B[39m\u001B[38;5;241m.\u001B[39mformat(sound, \u001B[38;5;124m'\u001B[39m\u001B[38;5;124m wait\u001B[39m\u001B[38;5;124m'\u001B[39m \u001B[38;5;28;01mif\u001B[39;00m block \u001B[38;5;28;01melse\u001B[39;00m \u001B[38;5;124m'\u001B[39m\u001B[38;5;124m'\u001B[39m))\n\u001B[0;32m     74\u001B[0m     logger\u001B[38;5;241m.\u001B[39mdebug(\u001B[38;5;124m'\u001B[39m\u001B[38;5;124mReturning\u001B[39m\u001B[38;5;124m'\u001B[39m)\n",
      "File \u001B[1;32m~\\Downloads\\mediapipe-keyboard\\mediapipe-sandbox\\venv\\lib\\site-packages\\playsound.py:64\u001B[0m, in \u001B[0;36m_playsoundWin.<locals>.winCommand\u001B[1;34m(*command)\u001B[0m\n\u001B[0;32m     60\u001B[0m     exceptionMessage \u001B[38;5;241m=\u001B[39m (\u001B[38;5;124m'\u001B[39m\u001B[38;5;130;01m\\n\u001B[39;00m\u001B[38;5;124m    Error \u001B[39m\u001B[38;5;124m'\u001B[39m \u001B[38;5;241m+\u001B[39m \u001B[38;5;28mstr\u001B[39m(errorCode) \u001B[38;5;241m+\u001B[39m \u001B[38;5;124m'\u001B[39m\u001B[38;5;124m for command:\u001B[39m\u001B[38;5;124m'\u001B[39m\n\u001B[0;32m     61\u001B[0m                         \u001B[38;5;124m'\u001B[39m\u001B[38;5;130;01m\\n\u001B[39;00m\u001B[38;5;124m        \u001B[39m\u001B[38;5;124m'\u001B[39m \u001B[38;5;241m+\u001B[39m command\u001B[38;5;241m.\u001B[39mdecode(\u001B[38;5;124m'\u001B[39m\u001B[38;5;124mutf-16\u001B[39m\u001B[38;5;124m'\u001B[39m) \u001B[38;5;241m+\u001B[39m\n\u001B[0;32m     62\u001B[0m                         \u001B[38;5;124m'\u001B[39m\u001B[38;5;130;01m\\n\u001B[39;00m\u001B[38;5;124m    \u001B[39m\u001B[38;5;124m'\u001B[39m \u001B[38;5;241m+\u001B[39m errorBuffer\u001B[38;5;241m.\u001B[39mraw\u001B[38;5;241m.\u001B[39mdecode(\u001B[38;5;124m'\u001B[39m\u001B[38;5;124mutf-16\u001B[39m\u001B[38;5;124m'\u001B[39m)\u001B[38;5;241m.\u001B[39mrstrip(\u001B[38;5;124m'\u001B[39m\u001B[38;5;130;01m\\0\u001B[39;00m\u001B[38;5;124m'\u001B[39m))\n\u001B[0;32m     63\u001B[0m     logger\u001B[38;5;241m.\u001B[39merror(exceptionMessage)\n\u001B[1;32m---> 64\u001B[0m     \u001B[38;5;28;01mraise\u001B[39;00m PlaysoundException(exceptionMessage)\n\u001B[0;32m     65\u001B[0m \u001B[38;5;28;01mreturn\u001B[39;00m buf\u001B[38;5;241m.\u001B[39mvalue\n",
      "\u001B[1;31mPlaysoundException\u001B[0m: \n    Error 263 for command:\n        open captured_voice.mp3\n    The specified device is not open or is not recognized by MCI."
     ]
    }
   ],
   "source": [
    "# Playing the translated file\n",
    "playsound(\"captured_voice.mp3\")"
   ],
   "metadata": {
    "collapsed": false
   }
  },
  {
   "cell_type": "code",
   "execution_count": 35,
   "outputs": [
    {
     "ename": "Error",
     "evalue": "file does not start with RIFF id",
     "output_type": "error",
     "traceback": [
      "\u001B[1;31m---------------------------------------------------------------------------\u001B[0m",
      "\u001B[1;31mError\u001B[0m                                     Traceback (most recent call last)",
      "Cell \u001B[1;32mIn[35], line 4\u001B[0m\n\u001B[0;32m      1\u001B[0m \u001B[38;5;28;01mimport\u001B[39;00m \u001B[38;5;21;01msimpleaudio\u001B[39;00m \u001B[38;5;28;01mas\u001B[39;00m \u001B[38;5;21;01msa\u001B[39;00m\n\u001B[0;32m      3\u001B[0m filename \u001B[38;5;241m=\u001B[39m \u001B[38;5;124m\"\u001B[39m\u001B[38;5;124mcaptured_voice.mp3\u001B[39m\u001B[38;5;124m\"\u001B[39m\n\u001B[1;32m----> 4\u001B[0m wave_obj \u001B[38;5;241m=\u001B[39m \u001B[43msa\u001B[49m\u001B[38;5;241;43m.\u001B[39;49m\u001B[43mWaveObject\u001B[49m\u001B[38;5;241;43m.\u001B[39;49m\u001B[43mfrom_wave_file\u001B[49m\u001B[43m(\u001B[49m\u001B[43mfilename\u001B[49m\u001B[43m)\u001B[49m\n\u001B[0;32m      5\u001B[0m play_obj \u001B[38;5;241m=\u001B[39m wave_obj\u001B[38;5;241m.\u001B[39mplay()\n\u001B[0;32m      6\u001B[0m play_obj\u001B[38;5;241m.\u001B[39mwait_done()  \u001B[38;5;66;03m# Wait until sound has finished playing\u001B[39;00m\n",
      "File \u001B[1;32m~\\Downloads\\mediapipe-keyboard\\mediapipe-sandbox\\venv\\lib\\site-packages\\simpleaudio\\shiny.py:24\u001B[0m, in \u001B[0;36mWaveObject.from_wave_file\u001B[1;34m(cls, wave_file)\u001B[0m\n\u001B[0;32m     22\u001B[0m \u001B[38;5;129m@classmethod\u001B[39m\n\u001B[0;32m     23\u001B[0m \u001B[38;5;28;01mdef\u001B[39;00m \u001B[38;5;21mfrom_wave_file\u001B[39m(\u001B[38;5;28mcls\u001B[39m, wave_file):\n\u001B[1;32m---> 24\u001B[0m     wave_read \u001B[38;5;241m=\u001B[39m \u001B[43mwave\u001B[49m\u001B[38;5;241;43m.\u001B[39;49m\u001B[43mopen\u001B[49m\u001B[43m(\u001B[49m\u001B[43mwave_file\u001B[49m\u001B[43m,\u001B[49m\u001B[43m \u001B[49m\u001B[38;5;124;43m'\u001B[39;49m\u001B[38;5;124;43mrb\u001B[39;49m\u001B[38;5;124;43m'\u001B[39;49m\u001B[43m)\u001B[49m\n\u001B[0;32m     25\u001B[0m     wave_obj \u001B[38;5;241m=\u001B[39m \u001B[38;5;28mcls\u001B[39m\u001B[38;5;241m.\u001B[39mfrom_wave_read(wave_read)\n\u001B[0;32m     26\u001B[0m     wave_read\u001B[38;5;241m.\u001B[39mclose()\n",
      "File \u001B[1;32m~\\AppData\\Local\\Programs\\Python\\Python310\\lib\\wave.py:509\u001B[0m, in \u001B[0;36mopen\u001B[1;34m(f, mode)\u001B[0m\n\u001B[0;32m    507\u001B[0m         mode \u001B[38;5;241m=\u001B[39m \u001B[38;5;124m'\u001B[39m\u001B[38;5;124mrb\u001B[39m\u001B[38;5;124m'\u001B[39m\n\u001B[0;32m    508\u001B[0m \u001B[38;5;28;01mif\u001B[39;00m mode \u001B[38;5;129;01min\u001B[39;00m (\u001B[38;5;124m'\u001B[39m\u001B[38;5;124mr\u001B[39m\u001B[38;5;124m'\u001B[39m, \u001B[38;5;124m'\u001B[39m\u001B[38;5;124mrb\u001B[39m\u001B[38;5;124m'\u001B[39m):\n\u001B[1;32m--> 509\u001B[0m     \u001B[38;5;28;01mreturn\u001B[39;00m \u001B[43mWave_read\u001B[49m\u001B[43m(\u001B[49m\u001B[43mf\u001B[49m\u001B[43m)\u001B[49m\n\u001B[0;32m    510\u001B[0m \u001B[38;5;28;01melif\u001B[39;00m mode \u001B[38;5;129;01min\u001B[39;00m (\u001B[38;5;124m'\u001B[39m\u001B[38;5;124mw\u001B[39m\u001B[38;5;124m'\u001B[39m, \u001B[38;5;124m'\u001B[39m\u001B[38;5;124mwb\u001B[39m\u001B[38;5;124m'\u001B[39m):\n\u001B[0;32m    511\u001B[0m     \u001B[38;5;28;01mreturn\u001B[39;00m Wave_write(f)\n",
      "File \u001B[1;32m~\\AppData\\Local\\Programs\\Python\\Python310\\lib\\wave.py:163\u001B[0m, in \u001B[0;36mWave_read.__init__\u001B[1;34m(self, f)\u001B[0m\n\u001B[0;32m    161\u001B[0m \u001B[38;5;66;03m# else, assume it is an open file object already\u001B[39;00m\n\u001B[0;32m    162\u001B[0m \u001B[38;5;28;01mtry\u001B[39;00m:\n\u001B[1;32m--> 163\u001B[0m     \u001B[38;5;28;43mself\u001B[39;49m\u001B[38;5;241;43m.\u001B[39;49m\u001B[43minitfp\u001B[49m\u001B[43m(\u001B[49m\u001B[43mf\u001B[49m\u001B[43m)\u001B[49m\n\u001B[0;32m    164\u001B[0m \u001B[38;5;28;01mexcept\u001B[39;00m:\n\u001B[0;32m    165\u001B[0m     \u001B[38;5;28;01mif\u001B[39;00m \u001B[38;5;28mself\u001B[39m\u001B[38;5;241m.\u001B[39m_i_opened_the_file:\n",
      "File \u001B[1;32m~\\AppData\\Local\\Programs\\Python\\Python310\\lib\\wave.py:130\u001B[0m, in \u001B[0;36mWave_read.initfp\u001B[1;34m(self, file)\u001B[0m\n\u001B[0;32m    128\u001B[0m \u001B[38;5;28mself\u001B[39m\u001B[38;5;241m.\u001B[39m_file \u001B[38;5;241m=\u001B[39m Chunk(file, bigendian \u001B[38;5;241m=\u001B[39m \u001B[38;5;241m0\u001B[39m)\n\u001B[0;32m    129\u001B[0m \u001B[38;5;28;01mif\u001B[39;00m \u001B[38;5;28mself\u001B[39m\u001B[38;5;241m.\u001B[39m_file\u001B[38;5;241m.\u001B[39mgetname() \u001B[38;5;241m!=\u001B[39m \u001B[38;5;124mb\u001B[39m\u001B[38;5;124m'\u001B[39m\u001B[38;5;124mRIFF\u001B[39m\u001B[38;5;124m'\u001B[39m:\n\u001B[1;32m--> 130\u001B[0m     \u001B[38;5;28;01mraise\u001B[39;00m Error(\u001B[38;5;124m'\u001B[39m\u001B[38;5;124mfile does not start with RIFF id\u001B[39m\u001B[38;5;124m'\u001B[39m)\n\u001B[0;32m    131\u001B[0m \u001B[38;5;28;01mif\u001B[39;00m \u001B[38;5;28mself\u001B[39m\u001B[38;5;241m.\u001B[39m_file\u001B[38;5;241m.\u001B[39mread(\u001B[38;5;241m4\u001B[39m) \u001B[38;5;241m!=\u001B[39m \u001B[38;5;124mb\u001B[39m\u001B[38;5;124m'\u001B[39m\u001B[38;5;124mWAVE\u001B[39m\u001B[38;5;124m'\u001B[39m:\n\u001B[0;32m    132\u001B[0m     \u001B[38;5;28;01mraise\u001B[39;00m Error(\u001B[38;5;124m'\u001B[39m\u001B[38;5;124mnot a WAVE file\u001B[39m\u001B[38;5;124m'\u001B[39m)\n",
      "\u001B[1;31mError\u001B[0m: file does not start with RIFF id"
     ]
    }
   ],
   "source": [
    "import simpleaudio as sa\n",
    "\n",
    "filename = \"captured_voice.mp3\"\n",
    "wave_obj = sa.WaveObject.from_wave_file(filename)\n",
    "play_obj = wave_obj.play()\n",
    "play_obj.wait_done()  # Wait until sound has finished playing"
   ],
   "metadata": {
    "collapsed": false
   }
  },
  {
   "cell_type": "markdown",
   "source": [
    "### Deep Translator\n",
    "\n"
   ],
   "metadata": {
    "collapsed": false
   }
  },
  {
   "cell_type": "code",
   "execution_count": null,
   "outputs": [],
   "source": [
    "from deep_translator import GoogleTranslator"
   ],
   "metadata": {
    "collapsed": false
   }
  },
  {
   "cell_type": "code",
   "execution_count": null,
   "outputs": [],
   "source": [
    "translated = GoogleTranslator(\n",
    "    source='auto', target='de'\n",
    ").translate(\n",
    "    \"keep it up, you are awesome\"\n",
    ")"
   ],
   "metadata": {
    "collapsed": false
   }
  },
  {
   "cell_type": "code",
   "execution_count": null,
   "outputs": [],
   "source": [
    "translated"
   ],
   "metadata": {
    "collapsed": false
   }
  }
 ],
 "metadata": {
  "kernelspec": {
   "display_name": "Python 3",
   "language": "python",
   "name": "python3"
  },
  "language_info": {
   "codemirror_mode": {
    "name": "ipython",
    "version": 2
   },
   "file_extension": ".py",
   "mimetype": "text/x-python",
   "name": "python",
   "nbconvert_exporter": "python",
   "pygments_lexer": "ipython2",
   "version": "2.7.6"
  }
 },
 "nbformat": 4,
 "nbformat_minor": 0
}
