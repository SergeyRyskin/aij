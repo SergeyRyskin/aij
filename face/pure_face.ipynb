{
 "cells": [
  {
   "cell_type": "markdown",
   "source": [
    "# Facial Expression Recognition\n",
    "\n",
    "The project has the following stages:\n",
    "1. Collecting images with expressions\n",
    "2. Detecting faces in the images and saving them\n",
    "3. Training our classifier on the Faces\n",
    "4. Recognition of expression in new images\n",
    "\n",
    "> Let's first clone the code from our GitHub public repository"
   ],
   "metadata": {
    "collapsed": false
   }
  },
  {
   "cell_type": "code",
   "execution_count": 1,
   "outputs": [
    {
     "name": "stdout",
     "output_type": "stream",
     "text": [
      "Cloning into pure_face_git\n",
      "2.04 MiB | 4.07 MiB/s\n",
      "4.32 MiB | 4.32 MiB/s\n",
      "6.43 MiB | 4.27 MiB/s\n",
      "7.93 MiB | 3.95 MiB/s\n",
      "7.93 MiB | 3.95 MiB/s\n",
      "10.89 MiB | 3.62 MiB/s\n",
      "11.39 MiB | 3.24 MiB/s\n",
      "12.09 MiB | 3.01 MiB/s\n",
      "14.07 MiB | 2.66 MiB/s\n",
      "14.07 MiB | 2.66 MiB/s\n",
      "16.94 MiB | 2.33 MiB/s\n",
      "16.94 MiB | 2.33 MiB/s\n",
      "18.62 MiB | 2.37 MiB/s\n",
      "19.51 MiB | 2.18 MiB/s\n",
      "20.54 MiB | 2.14 MiB/s\n",
      "21.77 MiB | 2.30 MiB/s\n",
      "23.20 MiB | 2.46 MiB/s\n",
      "24.87 MiB | 2.64 MiB/s\n",
      "26.75 MiB | 2.81 MiB/s\n",
      "28.80 MiB | 2.97 MiB/s\n",
      "28.80 MiB | 2.97 MiB/s\n",
      "31.07 MiB | 3.13 MiB/s\n",
      "32.44 MiB | 3.06 MiB/s\n",
      "33.79 MiB | 3.17 MiB/s\n",
      "35.34 MiB | 3.28 MiB/s\n",
      "37.10 MiB | 3.40 MiB/s\n",
      "39.04 MiB | 3.51 MiB/s\n",
      "39.04 MiB | 3.51 MiB/s\n",
      "41.21 MiB | 3.62 MiB/s\n",
      "43.57 MiB | 3.73 MiB/s\n",
      "43.57 MiB | 3.73 MiB/s\n",
      "46.13 MiB | 3.84 MiB/s\n",
      "48.25 MiB | 3.80 MiB/s\n",
      "48.25 MiB | 3.80 MiB/s\n",
      "50.40 MiB | 3.98 MiB/s\n",
      "52.76 MiB | 4.20 MiB/s\n",
      "52.76 MiB | 4.20 MiB/s\n",
      "55.21 MiB | 4.41 MiB/s\n",
      "57.09 MiB | 4.43 MiB/s\n",
      "57.09 MiB | 4.43 MiB/s\n",
      "57.09 MiB | 4.43 MiB/s\n",
      "59.15 MiB | 4.46 MiB/s\n",
      "61.38 MiB | 4.47 MiB/s\n",
      "63.82 MiB | 4.49 MiB/s\n",
      "63.82 MiB | 4.49 MiB/s\n",
      "65.55 MiB | 4.31 MiB/s\n",
      "67.01 MiB | 4.16 MiB/s\n",
      "68.68 MiB | 4.05 MiB/s\n",
      "68.68 MiB | 4.05 MiB/s\n",
      "70.54 MiB | 3.94 MiB/s\n",
      "72.48 MiB | 3.83 MiB/s\n",
      "74.15 MiB | 3.78 MiB/s\n",
      "75.92 MiB | 3.72 MiB/s\n",
      "75.92 MiB | 3.72 MiB/s\n",
      "80.09 MiB | 3.60 MiB/s\n",
      "80.09 MiB | 3.60 MiB/s\n",
      "82.47 MiB | 3.75 MiB/s\n",
      "85.02 MiB | 3.99 MiB/s\n",
      "85.02 MiB | 3.99 MiB/s\n",
      "87.86 MiB | 4.26 MiB/s\n",
      "87.86 MiB | 4.26 MiB/s\n",
      "90.86 MiB | 4.51 MiB/s\n",
      "90.86 MiB | 4.51 MiB/s\n",
      "93.79 MiB | 4.73 MiB/s\n",
      "93.79 MiB | 4.73 MiB/s\n",
      "97.10 MiB | 5.10 MiB/s\n",
      "97.10 MiB | 5.10 MiB/s\n",
      "97.10 MiB | 5.10 MiB/s\n",
      "100.63 MiB | 5.49 MiB/s\n",
      "103.39 MiB | 5.66 MiB/s\n",
      "103.39 MiB | 5.66 MiB/s\n",
      "106.36 MiB | 5.83 MiB/s\n",
      "106.36 MiB | 5.83 MiB/s\n",
      "109.52 MiB | 6.00 MiB/s\n",
      "109.52 MiB | 6.00 MiB/s\n",
      "112.60 MiB | 6.12 MiB/s\n",
      "115.12 MiB | 6.05 MiB/s\n",
      "115.12 MiB | 6.05 MiB/s\n",
      "117.04 MiB | 5.81 MiB/s\n",
      "119.14 MiB | 5.63 MiB/s\n",
      "119.14 MiB | 5.63 MiB/s\n",
      "121.42 MiB | 5.40 MiB/s\n",
      "123.51 MiB | 5.07 MiB/s\n",
      "124.88 MiB | 4.76 MiB/s\n",
      "126.39 MiB | 4.43 MiB/s\n",
      "128.15 MiB | 4.12 MiB/s\n",
      "130.11 MiB | 3.87 MiB/s\n",
      "130.11 MiB | 3.87 MiB/s\n",
      "132.26 MiB | 3.79 MiB/s\n",
      "134.61 MiB | 3.88 MiB/s\n",
      "134.61 MiB | 3.88 MiB/s\n",
      "137.18 MiB | 3.99 MiB/s\n",
      "139.95 MiB | 4.10 MiB/s\n",
      "139.95 MiB | 4.10 MiB/s\n",
      "142.11 MiB | 4.12 MiB/s\n",
      "144.45 MiB | 4.33 MiB/s\n",
      "144.45 MiB | 4.33 MiB/s\n",
      "146.99 MiB | 4.57 MiB/s\n",
      "149.68 MiB | 4.78 MiB/s\n",
      "149.68 MiB | 4.78 MiB/s\n",
      "152.41 MiB | 4.95 MiB/s\n",
      "155.50 MiB | 5.16 MiB/s\n",
      "155.50 MiB | 5.16 MiB/s\n",
      "155.50 MiB | 5.16 MiB/s\n",
      "158.77 MiB | 5.36 MiB/s\n",
      "162.23 MiB | 5.56 MiB/s\n",
      "162.23 MiB | 5.56 MiB/s\n",
      "165.89 MiB | 5.76 MiB/s\n",
      "165.89 MiB | 5.76 MiB/s\n",
      "169.66 MiB | 6.12 MiB/s\n",
      "169.66 MiB | 6.12 MiB/s\n",
      "173.63 MiB | 6.47 MiB/s\n",
      "173.63 MiB | 6.47 MiB/s\n",
      "177.85 MiB | 6.85 MiB/s\n",
      "177.85 MiB | 6.85 MiB/s\n",
      "177.85 MiB | 6.85 MiB/s\n",
      "182.14 MiB | 7.20 MiB/s\n",
      "186.72 MiB | 7.61 MiB/s\n",
      "186.72 MiB | 7.61 MiB/s\n",
      "186.72 MiB | 7.61 MiB/s\n",
      "191.49 MiB | 7.98 MiB/s\n",
      "191.49 MiB | 7.98 MiB/s\n",
      "196.27 MiB | 8.32 MiB/s\n",
      "196.27 MiB | 8.32 MiB/s\n",
      "196.27 MiB | 8.32 MiB/s\n",
      "201.00 MiB | 8.60 MiB/s\n",
      "201.00 MiB | 8.60 MiB/s\n",
      "205.67 MiB | 8.82 MiB/s\n",
      "205.67 MiB | 8.82 MiB/s\n",
      "205.67 MiB | 8.82 MiB/s\n",
      "210.05 MiB | 8.96 MiB/s\n",
      "214.38 MiB | 9.04 MiB/s\n",
      "214.38 MiB | 9.04 MiB/s\n",
      "214.38 MiB | 9.04 MiB/s\n",
      "218.75 MiB | 9.08 MiB/s\n",
      "218.75 MiB | 9.08 MiB/s\n",
      "223.35 MiB | 9.14 MiB/s\n",
      "223.35 MiB | 9.14 MiB/s\n",
      "223.35 MiB | 9.14 MiB/s\n",
      "227.97 MiB | 9.11 MiB/s\n",
      "231.95 MiB | 8.94 MiB/s\n",
      "231.95 MiB | 8.94 MiB/s\n",
      "231.95 MiB | 8.94 MiB/s\n",
      "235.56 MiB | 8.68 MiB/s\n",
      "235.56 MiB | 8.68 MiB/s\n",
      "239.67 MiB | 8.54 MiB/s\n",
      "240.06 MiB | 4.98 MiB/s\n"
     ]
    }
   ],
   "source": [
    "## !git clone https://github.com/codesapienbe/facial_expressions.git\n",
    "\n",
    "import os\n",
    "\n",
    "import git\n",
    "from git import RemoteProgress\n",
    "\n",
    "git_root = \"pure_face_git\"\n",
    "git_repo = \"https://github.com/codesapienbe/facial_expressions.git\"\n",
    "\n",
    "\n",
    "class CloneProgress(RemoteProgress):\n",
    "    def update(self, op_code, cur_count, max_count=None, message=''):\n",
    "        if message:\n",
    "            # clean up the message a bit\n",
    "            message = message.strip()\n",
    "            if message.endswith('.'):\n",
    "                message = message[:-1]\n",
    "            if message.startswith('remote: '):\n",
    "                message = message[8:]\n",
    "\n",
    "            # clear the current line and print the message\n",
    "            print('\\r', end='')\n",
    "            print(message)\n",
    "\n",
    "print('Cloning into %s' % git_root)\n",
    "git.Repo.clone_from(git_repo, git_root, progress=CloneProgress())\n",
    "\n",
    "# change the current working directory to the cloned repository\n",
    "os.chdir(\"pure_face_git\")"
   ],
   "metadata": {
    "collapsed": false
   }
  },
  {
   "cell_type": "markdown",
   "source": [
    "Let us create required directory structure"
   ],
   "metadata": {
    "collapsed": false
   }
  },
  {
   "cell_type": "code",
   "execution_count": 42,
   "outputs": [],
   "source": [
    "# if the directory does not exist, create it\n",
    "if not os.path.exists(\"data_set\"):\n",
    "    os.mkdir(\"data_set\")\n",
    "\n",
    "if not os.path.exists(\"data_set/anger\"):\n",
    "    os.mkdir(\"data_set/anger\")\n",
    "\n",
    "if not os.path.exists(\"data_set/happy\"):\n",
    "    os.mkdir(\"data_set/happy\")\n",
    "\n",
    "if not os.path.exists(\"data_set/neutral\"):\n",
    "    os.mkdir(\"data_set/neutral\")\n",
    "\n",
    "if not os.path.exists(\"data_set/sad\"):\n",
    "    os.mkdir(\"data_set/sad\")\n",
    "\n",
    "if not os.path.exists(\"data_set/surprise\"):\n",
    "    os.mkdir(\"data_set/surprise\")"
   ],
   "metadata": {
    "collapsed": false
   }
  },
  {
   "cell_type": "markdown",
   "source": [
    "Extracting Images with Expressions"
   ],
   "metadata": {
    "collapsed": false
   }
  },
  {
   "cell_type": "code",
   "execution_count": 43,
   "outputs": [],
   "source": [
    "import cv2\n",
    "import numpy as np\n",
    "from PIL import Image"
   ],
   "metadata": {
    "collapsed": false
   }
  },
  {
   "cell_type": "code",
   "execution_count": 44,
   "outputs": [],
   "source": [
    "def generate_emotion_data_set(emotion_title):\n",
    "    global f, img, image, source, destination\n",
    "    with open(f\"{emotion_title}.txt\", 'r') as f:\n",
    "        img = [line.strip() for line in f]\n",
    "    # loading images\n",
    "    for image in img:\n",
    "        source = cv2.imread(\"images/\" + image)\n",
    "        destination = f\"data_set/{emotion_title}/\" + image\n",
    "        cv2.imwrite(destination, source)  # 250 images\n"
   ],
   "metadata": {
    "collapsed": false
   }
  },
  {
   "cell_type": "code",
   "execution_count": 45,
   "outputs": [],
   "source": [
    "generate_emotion_data_set(\"anger\")\n",
    "generate_emotion_data_set(\"happy\")\n",
    "generate_emotion_data_set(\"neutral\")\n",
    "generate_emotion_data_set(\"sad\")\n",
    "generate_emotion_data_set(\"surprise\")"
   ],
   "metadata": {
    "collapsed": false
   }
  },
  {
   "cell_type": "markdown",
   "source": [
    "Create a new folder for the data set called 'ds'"
   ],
   "metadata": {
    "collapsed": false
   }
  },
  {
   "cell_type": "code",
   "execution_count": 46,
   "outputs": [],
   "source": [
    "os.mkdir(\"ds\")"
   ],
   "metadata": {
    "collapsed": false
   }
  },
  {
   "cell_type": "markdown",
   "source": [
    "## Creating Data Set of Faces"
   ],
   "metadata": {
    "collapsed": false
   }
  },
  {
   "cell_type": "code",
   "execution_count": 47,
   "outputs": [],
   "source": [
    "def generate_dataset_of_faces(fid, emotion_title):\n",
    "    global f, images, face_detector, face_id, count, image, img, gray, faces, x, y, w, h\n",
    "    with open(f\"{emotion_title}.txt\", 'r') as f:\n",
    "        images = [line.strip() for line in f]\n",
    "    face_detector = cv2.CascadeClassifier('haarcascade_frontalface_default.xml')\n",
    "    face_id = fid\n",
    "    count = 0\n",
    "    for image in images:\n",
    "        img = cv2.imread(f\"data_set/{emotion_title}/\" + image)\n",
    "        gray = cv2.cvtColor(img, cv2.COLOR_BGR2GRAY)\n",
    "        faces = face_detector.detectMultiScale(gray, 1.3, 5)\n",
    "\n",
    "        for (x, y, w, h) in faces:\n",
    "            cv2.rectangle(img, (x, y), (x + w, y + h), (255, 0, 0), 2)\n",
    "            count += 1\n",
    "\n",
    "            # Save the captured image into the datasets folder\n",
    "            cv2.imwrite(\"ds/User.\" + str(face_id) + '.' + str(count) + \".jpg\", gray[y:y + h, x:x + w])\n"
   ],
   "metadata": {
    "collapsed": false
   }
  },
  {
   "cell_type": "code",
   "execution_count": 48,
   "outputs": [
    {
     "data": {
      "text/plain": "'\\nDatasets are created successfully'"
     },
     "metadata": {},
     "output_type": "display_data"
    }
   ],
   "source": [
    "generate_dataset_of_faces(0, \"anger\")\n",
    "generate_dataset_of_faces(1, \"happy\")\n",
    "generate_dataset_of_faces(2, \"neutral\")\n",
    "generate_dataset_of_faces(3, \"sad\")\n",
    "generate_dataset_of_faces(4, \"surprise\")\n",
    "\n",
    "display(\"\\nDatasets are created successfully\")"
   ],
   "metadata": {
    "collapsed": false
   }
  },
  {
   "cell_type": "markdown",
   "source": [
    "Let us make a new folder for the training data"
   ],
   "metadata": {
    "collapsed": false
   }
  },
  {
   "cell_type": "code",
   "execution_count": 49,
   "outputs": [],
   "source": [
    "os.mkdir(\"trainer\")"
   ],
   "metadata": {
    "collapsed": false
   }
  },
  {
   "cell_type": "code",
   "execution_count": 50,
   "outputs": [],
   "source": [
    "# Path for face image database\n",
    "path = 'ds'\n",
    "\n",
    "recognizer = cv2.face.LBPHFaceRecognizer_create()\n",
    "detector = cv2.CascadeClassifier(\"haarcascade_frontalface_default.xml\");\n",
    "\n",
    "\n",
    "# function to get the images and label data\n",
    "def getImagesAndLabels(path):\n",
    "    imagePaths = [os.path.join(path, f) for f in os.listdir(path)]\n",
    "    faceSamples = []\n",
    "    ids = []\n",
    "\n",
    "    for imagePath in imagePaths:\n",
    "\n",
    "        PIL_img = Image.open(imagePath).convert('L')  # convert it to grayscale\n",
    "        img_numpy = np.array(PIL_img, 'uint8')\n",
    "\n",
    "        # id is the name of the image file\n",
    "        id = int(os.path.split(imagePath)[-1].split(\".\")[1])\n",
    "        # faces are the faces in the image\n",
    "        faces = detector.detectMultiScale(img_numpy)\n",
    "\n",
    "        # x,y,w,h are the coordinates of the face in the image\n",
    "        for (x, y, w, h) in faces:\n",
    "            faceSamples.append(img_numpy[y:y + h, x:x + w])\n",
    "            ids.append(id)\n",
    "\n",
    "    return faceSamples, ids"
   ],
   "metadata": {
    "collapsed": false
   }
  },
  {
   "cell_type": "code",
   "execution_count": 51,
   "outputs": [
    {
     "name": "stdout",
     "output_type": "stream",
     "text": [
      "\n",
      " [INFO] Training faces. It will take a few seconds. Wait ...\n",
      "\n",
      " [INFO] 5 faces trained. Exiting Program\n"
     ]
    }
   ],
   "source": [
    "print(\"\\n [INFO] Training faces. It will take a few seconds. Wait ...\")\n",
    "faces, ids = getImagesAndLabels(path)\n",
    "recognizer.train(faces, np.array(ids))\n",
    "\n",
    "# Save the model into trainer/trainer.yml\n",
    "recognizer.write('trainer/trainer.yml')  # recognizer.save() worked on Mac, but not on Pi\n",
    "\n",
    "# Print the numer of faces trained and end program\n",
    "print(\"\\n [INFO] {0} faces trained. Exiting Program\".format(len(np.unique(ids))))"
   ],
   "metadata": {
    "collapsed": false
   }
  },
  {
   "cell_type": "markdown",
   "source": [
    "## Recognizing Faces (Testing)"
   ],
   "metadata": {
    "collapsed": false
   }
  },
  {
   "cell_type": "code",
   "execution_count": 52,
   "outputs": [
    {
     "name": "stdout",
     "output_type": "stream",
     "text": [
      "\n",
      " [INFO] Exiting Program and cleanup stuff\n"
     ]
    }
   ],
   "source": [
    "recognizer = cv2.face.LBPHFaceRecognizer_create()\n",
    "recognizer.read('trainer/trainer.yml')\n",
    "cascadePath = \"haarcascade_frontalface_default.xml\"\n",
    "faceCascade = cv2.CascadeClassifier(cascadePath);\n",
    "\n",
    "font = cv2.FONT_HERSHEY_SIMPLEX\n",
    "\n",
    "# initiate id counter\n",
    "id = 0\n",
    "\n",
    "# names related to ids: example ==> Marcelo: id=1,  etc\n",
    "names = ['Anger', 'Happy', 'Neutral', 'Sad', 'Surprise']\n",
    "\n",
    "# ask user to select a video file\n",
    "selection = input(\"Select a video file to test the model (Default: Webcam (0) or enter the absolute path to a video file):\")\n",
    "\n",
    "if selection == \"0\" or selection == \"\" or selection is None:\n",
    "    cam = cv2.VideoCapture(0)\n",
    "else:\n",
    "    cam = cv2.VideoCapture(selection)\n",
    "\n",
    "# set the resolution of the camera to full screen size\n",
    "# get the width and height of the screen\n",
    "width = int(cam.get(cv2.CAP_PROP_FRAME_WIDTH))\n",
    "height = int(cam.get(cv2.CAP_PROP_FRAME_HEIGHT))\n",
    "# set the width and height, and UNSUCCESSFULLY set the exposure time\n",
    "cam.set(cv2.CAP_PROP_FRAME_WIDTH, width)\n",
    "cam.set(cv2.CAP_PROP_FRAME_HEIGHT, height)\n",
    "cam.set(cv2.CAP_PROP_FPS, 60)\n",
    "\n",
    "# Define min window size to be recognized as a face\n",
    "minW = 0.1 * cam.get(3)\n",
    "minH = 0.1 * cam.get(4)\n",
    "\n",
    "while True:\n",
    "\n",
    "    ret, img = cam.read()\n",
    "    img = cv2.flip(img, 1)  # Flip vertically\n",
    "    gray = cv2.cvtColor(img, cv2.COLOR_BGR2GRAY)\n",
    "\n",
    "    faces = faceCascade.detectMultiScale(\n",
    "        gray,\n",
    "        scaleFactor=1.2,\n",
    "        minNeighbors=5,\n",
    "        minSize=(int(minW), int(minH)),\n",
    "    )\n",
    "\n",
    "    for (x, y, w, h) in faces:\n",
    "\n",
    "        cv2.rectangle(img, (x, y), (x + w, y + h), (0, 255, 0), 2)\n",
    "\n",
    "        id, confidence = recognizer.predict(gray[y:y + h, x:x + w])\n",
    "\n",
    "        # Check if confidence is less them 100 ==> \"0\" is perfect match\n",
    "        if confidence < 100:\n",
    "            id = names[id]\n",
    "            confidence = \"  {0}%\".format(round(100 - confidence))\n",
    "        else:\n",
    "            id = \"unknown\"\n",
    "            confidence = \"  {0}%\".format(round(100 - confidence))\n",
    "\n",
    "        cv2.putText(img, str(id), (x + 5, y - 5), font, 1, (255, 255, 255), 2)\n",
    "        cv2.putText(img, str(confidence), (x + 5, y + h - 5), font, 1, (255, 255, 0), 1)\n",
    "\n",
    "    cv2.imshow('camera', img)\n",
    "\n",
    "    k = cv2.waitKey(10) & 0xff  # Press 'ESC' for exiting video\n",
    "    if k == 27:\n",
    "        break\n",
    "\n",
    "# Do a bit of cleanup\n",
    "print(\"\\n [INFO] Exiting Program and cleanup stuff\")\n",
    "cam.release()\n",
    "cv2.destroyAllWindows()"
   ],
   "metadata": {
    "collapsed": false
   }
  }
 ],
 "metadata": {
  "kernelspec": {
   "display_name": "Python 3",
   "language": "python",
   "name": "python3"
  },
  "language_info": {
   "codemirror_mode": {
    "name": "ipython",
    "version": 2
   },
   "file_extension": ".py",
   "mimetype": "text/x-python",
   "name": "python",
   "nbconvert_exporter": "python",
   "pygments_lexer": "ipython2",
   "version": "2.7.6"
  }
 },
 "nbformat": 4,
 "nbformat_minor": 0
}
