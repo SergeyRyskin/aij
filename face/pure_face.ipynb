{
 "cells": [
  {
   "cell_type": "markdown",
   "source": [
    "# Facial Expression Recognition\n",
    "\n",
    "The project has the following stages:\n",
    "1. Collecting images with expressions\n",
    "2. Detecting faces in the images and saving them\n",
    "3. Training our classifier on the Faces\n",
    "4. Recognition of expression in new images\n",
    "\n",
    "> Let's first clone the code from our GitHub public repository"
   ],
   "metadata": {
    "collapsed": false
   }
  },
  {
   "cell_type": "code",
   "execution_count": 41,
   "outputs": [
    {
     "name": "stdout",
     "output_type": "stream",
     "text": [
      "Cloning into facial_expressions\n",
      "7.44 MiB | 14.87 MiB/s\n",
      "7.44 MiB | 14.87 MiB/s\n",
      "7.44 MiB | 14.87 MiB/s\n",
      "15.86 MiB | 15.82 MiB/s\n",
      "15.86 MiB | 15.82 MiB/s\n",
      "15.86 MiB | 15.82 MiB/s\n",
      "15.86 MiB | 15.82 MiB/s\n",
      "15.86 MiB | 15.82 MiB/s\n",
      "24.38 MiB | 16.21 MiB/s\n",
      "24.38 MiB | 16.21 MiB/s\n",
      "24.38 MiB | 16.21 MiB/s\n",
      "32.48 MiB | 16.21 MiB/s\n",
      "32.48 MiB | 16.21 MiB/s\n",
      "32.48 MiB | 16.21 MiB/s\n",
      "32.48 MiB | 16.21 MiB/s\n",
      "40.92 MiB | 16.35 MiB/s\n",
      "40.92 MiB | 16.35 MiB/s\n",
      "40.92 MiB | 16.35 MiB/s\n",
      "49.38 MiB | 16.44 MiB/s\n",
      "49.38 MiB | 16.44 MiB/s\n",
      "49.38 MiB | 16.44 MiB/s\n",
      "49.38 MiB | 16.44 MiB/s\n",
      "49.38 MiB | 16.44 MiB/s\n",
      "57.82 MiB | 16.50 MiB/s\n",
      "57.82 MiB | 16.50 MiB/s\n",
      "57.82 MiB | 16.50 MiB/s\n",
      "57.82 MiB | 16.50 MiB/s\n",
      "57.82 MiB | 16.50 MiB/s\n",
      "66.28 MiB | 16.56 MiB/s\n",
      "66.28 MiB | 16.56 MiB/s\n",
      "66.28 MiB | 16.56 MiB/s\n",
      "66.28 MiB | 16.56 MiB/s\n",
      "74.72 MiB | 16.59 MiB/s\n",
      "74.72 MiB | 16.59 MiB/s\n",
      "74.72 MiB | 16.59 MiB/s\n",
      "74.72 MiB | 16.59 MiB/s\n",
      "83.18 MiB | 16.81 MiB/s\n",
      "83.18 MiB | 16.81 MiB/s\n",
      "83.18 MiB | 16.81 MiB/s\n",
      "89.95 MiB | 16.40 MiB/s\n",
      "89.95 MiB | 16.40 MiB/s\n",
      "89.95 MiB | 16.40 MiB/s\n",
      "89.95 MiB | 16.40 MiB/s\n",
      "89.95 MiB | 16.40 MiB/s\n",
      "99.99 MiB | 16.74 MiB/s\n",
      "99.99 MiB | 16.74 MiB/s\n",
      "99.99 MiB | 16.74 MiB/s\n",
      "99.99 MiB | 16.74 MiB/s\n",
      "99.99 MiB | 16.74 MiB/s\n",
      "107.66 MiB | 16.64 MiB/s\n",
      "107.66 MiB | 16.64 MiB/s\n",
      "107.66 MiB | 16.64 MiB/s\n",
      "114.54 MiB | 16.29 MiB/s\n",
      "114.54 MiB | 16.29 MiB/s\n",
      "114.54 MiB | 16.29 MiB/s\n",
      "114.54 MiB | 16.29 MiB/s\n",
      "121.53 MiB | 15.97 MiB/s\n",
      "121.53 MiB | 15.97 MiB/s\n",
      "121.53 MiB | 15.97 MiB/s\n",
      "129.13 MiB | 15.78 MiB/s\n",
      "129.13 MiB | 15.78 MiB/s\n",
      "129.13 MiB | 15.78 MiB/s\n",
      "129.13 MiB | 15.78 MiB/s\n",
      "137.57 MiB | 15.78 MiB/s\n",
      "137.57 MiB | 15.78 MiB/s\n",
      "137.57 MiB | 15.78 MiB/s\n",
      "137.57 MiB | 15.78 MiB/s\n",
      "146.03 MiB | 15.78 MiB/s\n",
      "146.03 MiB | 15.78 MiB/s\n",
      "146.03 MiB | 15.78 MiB/s\n",
      "146.03 MiB | 15.78 MiB/s\n",
      "154.45 MiB | 15.78 MiB/s\n",
      "154.45 MiB | 15.78 MiB/s\n",
      "154.45 MiB | 15.78 MiB/s\n",
      "162.91 MiB | 16.21 MiB/s\n",
      "162.91 MiB | 16.21 MiB/s\n",
      "162.91 MiB | 16.21 MiB/s\n",
      "162.91 MiB | 16.21 MiB/s\n",
      "171.37 MiB | 15.86 MiB/s\n",
      "171.37 MiB | 15.86 MiB/s\n",
      "171.37 MiB | 15.86 MiB/s\n",
      "171.37 MiB | 15.86 MiB/s\n",
      "179.84 MiB | 16.03 MiB/s\n",
      "179.84 MiB | 16.03 MiB/s\n",
      "179.84 MiB | 16.03 MiB/s\n",
      "179.84 MiB | 16.03 MiB/s\n",
      "188.29 MiB | 16.38 MiB/s\n",
      "188.29 MiB | 16.38 MiB/s\n",
      "188.29 MiB | 16.38 MiB/s\n",
      "196.73 MiB | 16.71 MiB/s\n",
      "196.73 MiB | 16.71 MiB/s\n",
      "196.73 MiB | 16.71 MiB/s\n",
      "196.73 MiB | 16.71 MiB/s\n",
      "205.15 MiB | 16.89 MiB/s\n",
      "205.15 MiB | 16.89 MiB/s\n",
      "205.15 MiB | 16.89 MiB/s\n",
      "205.15 MiB | 16.89 MiB/s\n",
      "213.48 MiB | 16.87 MiB/s\n",
      "213.48 MiB | 16.87 MiB/s\n",
      "213.48 MiB | 16.87 MiB/s\n",
      "213.48 MiB | 16.87 MiB/s\n",
      "222.11 MiB | 16.90 MiB/s\n",
      "222.11 MiB | 16.90 MiB/s\n",
      "222.11 MiB | 16.90 MiB/s\n",
      "222.11 MiB | 16.90 MiB/s\n",
      "230.56 MiB | 16.91 MiB/s\n",
      "230.56 MiB | 16.91 MiB/s\n",
      "230.56 MiB | 16.91 MiB/s\n",
      "230.56 MiB | 16.91 MiB/s\n",
      "239.00 MiB | 16.90 MiB/s\n",
      "239.00 MiB | 16.90 MiB/s\n",
      "240.06 MiB | 16.44 MiB/s\n"
     ]
    }
   ],
   "source": [
    "## !git clone https://github.com/codesapienbe/facial_expressions.git\n",
    "\n",
    "import os\n",
    "\n",
    "import git\n",
    "from git import RemoteProgress\n",
    "\n",
    "git_root = \"facial_expressions\"\n",
    "git_repo = \"https://github.com/codesapienbe/facial_expressions.git\"\n",
    "\n",
    "\n",
    "class CloneProgress(RemoteProgress):\n",
    "    def update(self, op_code, cur_count, max_count=None, message=''):\n",
    "        if message:\n",
    "            # clean up the message a bit\n",
    "            message = message.strip()\n",
    "            if message.endswith('.'):\n",
    "                message = message[:-1]\n",
    "            if message.startswith('remote: '):\n",
    "                message = message[8:]\n",
    "\n",
    "            # clear the current line and print the message\n",
    "            print('\\r', end='')\n",
    "            print(message)\n",
    "\n",
    "print('Cloning into %s' % git_root)\n",
    "git.Repo.clone_from(git_repo, git_root, progress=CloneProgress())\n",
    "\n",
    "# change the current working directory to the cloned repository\n",
    "os.chdir(\"facial_expressions\")"
   ],
   "metadata": {
    "collapsed": false
   }
  },
  {
   "cell_type": "markdown",
   "source": [
    "Let us create required directory structure"
   ],
   "metadata": {
    "collapsed": false
   }
  },
  {
   "cell_type": "code",
   "execution_count": 42,
   "outputs": [],
   "source": [
    "# if the directory does not exist, create it\n",
    "if not os.path.exists(\"data_set\"):\n",
    "    os.mkdir(\"data_set\")\n",
    "\n",
    "if not os.path.exists(\"data_set/anger\"):\n",
    "    os.mkdir(\"data_set/anger\")\n",
    "\n",
    "if not os.path.exists(\"data_set/happy\"):\n",
    "    os.mkdir(\"data_set/happy\")\n",
    "\n",
    "if not os.path.exists(\"data_set/neutral\"):\n",
    "    os.mkdir(\"data_set/neutral\")\n",
    "\n",
    "if not os.path.exists(\"data_set/sad\"):\n",
    "    os.mkdir(\"data_set/sad\")\n",
    "\n",
    "if not os.path.exists(\"data_set/surprise\"):\n",
    "    os.mkdir(\"data_set/surprise\")"
   ],
   "metadata": {
    "collapsed": false
   }
  },
  {
   "cell_type": "markdown",
   "source": [
    "Extracting Images with Expressions"
   ],
   "metadata": {
    "collapsed": false
   }
  },
  {
   "cell_type": "code",
   "execution_count": 43,
   "outputs": [],
   "source": [
    "import cv2\n",
    "import numpy as np\n",
    "from PIL import Image"
   ],
   "metadata": {
    "collapsed": false
   }
  },
  {
   "cell_type": "code",
   "execution_count": 44,
   "outputs": [],
   "source": [
    "def generate_emotion_data_set(emotion_title):\n",
    "    global f, img, image, source, destination\n",
    "    with open(f\"{emotion_title}.txt\", 'r') as f:\n",
    "        img = [line.strip() for line in f]\n",
    "    # loading images\n",
    "    for image in img:\n",
    "        source = cv2.imread(\"images/\" + image)\n",
    "        destination = f\"data_set/{emotion_title}/\" + image\n",
    "        cv2.imwrite(destination, source)  # 250 images\n"
   ],
   "metadata": {
    "collapsed": false
   }
  },
  {
   "cell_type": "code",
   "execution_count": 45,
   "outputs": [],
   "source": [
    "generate_emotion_data_set(\"anger\")\n",
    "generate_emotion_data_set(\"happy\")\n",
    "generate_emotion_data_set(\"neutral\")\n",
    "generate_emotion_data_set(\"sad\")\n",
    "generate_emotion_data_set(\"surprise\")"
   ],
   "metadata": {
    "collapsed": false
   }
  },
  {
   "cell_type": "markdown",
   "source": [
    "Create a new folder for the data set called 'ds'"
   ],
   "metadata": {
    "collapsed": false
   }
  },
  {
   "cell_type": "code",
   "execution_count": 46,
   "outputs": [],
   "source": [
    "os.mkdir(\"ds\")"
   ],
   "metadata": {
    "collapsed": false
   }
  },
  {
   "cell_type": "markdown",
   "source": [
    "## Creating Data Set of Faces"
   ],
   "metadata": {
    "collapsed": false
   }
  },
  {
   "cell_type": "code",
   "execution_count": 47,
   "outputs": [],
   "source": [
    "def generate_dataset_of_faces(fid, emotion_title):\n",
    "    global f, images, face_detector, face_id, count, image, img, gray, faces, x, y, w, h\n",
    "    with open(f\"{emotion_title}.txt\", 'r') as f:\n",
    "        images = [line.strip() for line in f]\n",
    "    face_detector = cv2.CascadeClassifier('haarcascade_frontalface_default.xml')\n",
    "    face_id = fid\n",
    "    count = 0\n",
    "    for image in images:\n",
    "        img = cv2.imread(f\"data_set/{emotion_title}/\" + image)\n",
    "        gray = cv2.cvtColor(img, cv2.COLOR_BGR2GRAY)\n",
    "        faces = face_detector.detectMultiScale(gray, 1.3, 5)\n",
    "\n",
    "        for (x, y, w, h) in faces:\n",
    "            cv2.rectangle(img, (x, y), (x + w, y + h), (255, 0, 0), 2)\n",
    "            count += 1\n",
    "\n",
    "            # Save the captured image into the datasets folder\n",
    "            cv2.imwrite(\"ds/User.\" + str(face_id) + '.' + str(count) + \".jpg\", gray[y:y + h, x:x + w])\n"
   ],
   "metadata": {
    "collapsed": false
   }
  },
  {
   "cell_type": "code",
   "execution_count": 48,
   "outputs": [
    {
     "data": {
      "text/plain": "'\\nDatasets are created successfully'"
     },
     "metadata": {},
     "output_type": "display_data"
    }
   ],
   "source": [
    "generate_dataset_of_faces(0, \"anger\")\n",
    "generate_dataset_of_faces(1, \"happy\")\n",
    "generate_dataset_of_faces(2, \"neutral\")\n",
    "generate_dataset_of_faces(3, \"sad\")\n",
    "generate_dataset_of_faces(4, \"surprise\")\n",
    "\n",
    "display(\"\\nDatasets are created successfully\")"
   ],
   "metadata": {
    "collapsed": false
   }
  },
  {
   "cell_type": "markdown",
   "source": [
    "Let us make a new folder for the training data"
   ],
   "metadata": {
    "collapsed": false
   }
  },
  {
   "cell_type": "code",
   "execution_count": 49,
   "outputs": [],
   "source": [
    "os.mkdir(\"trainer\")"
   ],
   "metadata": {
    "collapsed": false
   }
  },
  {
   "cell_type": "code",
   "execution_count": 50,
   "outputs": [],
   "source": [
    "# Path for face image database\n",
    "path = 'ds'\n",
    "\n",
    "recognizer = cv2.face.LBPHFaceRecognizer_create()\n",
    "detector = cv2.CascadeClassifier(\"haarcascade_frontalface_default.xml\");\n",
    "\n",
    "\n",
    "# function to get the images and label data\n",
    "def getImagesAndLabels(path):\n",
    "    imagePaths = [os.path.join(path, f) for f in os.listdir(path)]\n",
    "    faceSamples = []\n",
    "    ids = []\n",
    "\n",
    "    for imagePath in imagePaths:\n",
    "\n",
    "        PIL_img = Image.open(imagePath).convert('L')  # convert it to grayscale\n",
    "        img_numpy = np.array(PIL_img, 'uint8')\n",
    "\n",
    "        # id is the name of the image file\n",
    "        id = int(os.path.split(imagePath)[-1].split(\".\")[1])\n",
    "        # faces are the faces in the image\n",
    "        faces = detector.detectMultiScale(img_numpy)\n",
    "\n",
    "        # x,y,w,h are the coordinates of the face in the image\n",
    "        for (x, y, w, h) in faces:\n",
    "            faceSamples.append(img_numpy[y:y + h, x:x + w])\n",
    "            ids.append(id)\n",
    "\n",
    "    return faceSamples, ids"
   ],
   "metadata": {
    "collapsed": false
   }
  },
  {
   "cell_type": "code",
   "execution_count": 51,
   "outputs": [
    {
     "name": "stdout",
     "output_type": "stream",
     "text": [
      "\n",
      " [INFO] Training faces. It will take a few seconds. Wait ...\n",
      "\n",
      " [INFO] 5 faces trained. Exiting Program\n"
     ]
    }
   ],
   "source": [
    "print(\"\\n [INFO] Training faces. It will take a few seconds. Wait ...\")\n",
    "faces, ids = getImagesAndLabels(path)\n",
    "recognizer.train(faces, np.array(ids))\n",
    "\n",
    "# Save the model into trainer/trainer.yml\n",
    "recognizer.write('trainer/trainer.yml')  # recognizer.save() worked on Mac, but not on Pi\n",
    "\n",
    "# Print the numer of faces trained and end program\n",
    "print(\"\\n [INFO] {0} faces trained. Exiting Program\".format(len(np.unique(ids))))"
   ],
   "metadata": {
    "collapsed": false
   }
  },
  {
   "cell_type": "markdown",
   "source": [
    "## Recognizing Faces (Testing)"
   ],
   "metadata": {
    "collapsed": false
   }
  },
  {
   "cell_type": "code",
   "execution_count": 52,
   "outputs": [
    {
     "name": "stdout",
     "output_type": "stream",
     "text": [
      "\n",
      " [INFO] Exiting Program and cleanup stuff\n"
     ]
    }
   ],
   "source": [
    "recognizer = cv2.face.LBPHFaceRecognizer_create()\n",
    "recognizer.read('trainer/trainer.yml')\n",
    "cascadePath = \"haarcascade_frontalface_default.xml\"\n",
    "faceCascade = cv2.CascadeClassifier(cascadePath);\n",
    "\n",
    "font = cv2.FONT_HERSHEY_SIMPLEX\n",
    "\n",
    "# initiate id counter\n",
    "id = 0\n",
    "\n",
    "# names related to ids: example ==> Marcelo: id=1,  etc\n",
    "names = ['Anger', 'Happy', 'Neutral', 'Sad', 'Surprise']\n",
    "\n",
    "# ask user to select a video file\n",
    "selection = input(\"Select a video file to test the model (Default: Webcam (0) or enter the absolute path to a video file):\")\n",
    "\n",
    "if selection == \"0\" or selection == \"\" or selection is None:\n",
    "    cam = cv2.VideoCapture(0)\n",
    "else:\n",
    "    cam = cv2.VideoCapture(selection)\n",
    "\n",
    "# set the resolution of the camera to full screen size\n",
    "# get the width and height of the screen\n",
    "width = int(cam.get(cv2.CAP_PROP_FRAME_WIDTH))\n",
    "height = int(cam.get(cv2.CAP_PROP_FRAME_HEIGHT))\n",
    "# set the width and height, and UNSUCCESSFULLY set the exposure time\n",
    "cam.set(cv2.CAP_PROP_FRAME_WIDTH, width)\n",
    "cam.set(cv2.CAP_PROP_FRAME_HEIGHT, height)\n",
    "cam.set(cv2.CAP_PROP_FPS, 60)\n",
    "\n",
    "# Define min window size to be recognized as a face\n",
    "minW = 0.1 * cam.get(3)\n",
    "minH = 0.1 * cam.get(4)\n",
    "\n",
    "while True:\n",
    "\n",
    "    ret, img = cam.read()\n",
    "    img = cv2.flip(img, 1)  # Flip vertically\n",
    "    gray = cv2.cvtColor(img, cv2.COLOR_BGR2GRAY)\n",
    "\n",
    "    faces = faceCascade.detectMultiScale(\n",
    "        gray,\n",
    "        scaleFactor=1.2,\n",
    "        minNeighbors=5,\n",
    "        minSize=(int(minW), int(minH)),\n",
    "    )\n",
    "\n",
    "    for (x, y, w, h) in faces:\n",
    "\n",
    "        cv2.rectangle(img, (x, y), (x + w, y + h), (0, 255, 0), 2)\n",
    "\n",
    "        id, confidence = recognizer.predict(gray[y:y + h, x:x + w])\n",
    "\n",
    "        # Check if confidence is less them 100 ==> \"0\" is perfect match\n",
    "        if confidence < 100:\n",
    "            id = names[id]\n",
    "            confidence = \"  {0}%\".format(round(100 - confidence))\n",
    "        else:\n",
    "            id = \"unknown\"\n",
    "            confidence = \"  {0}%\".format(round(100 - confidence))\n",
    "\n",
    "        cv2.putText(img, str(id), (x + 5, y - 5), font, 1, (255, 255, 255), 2)\n",
    "        cv2.putText(img, str(confidence), (x + 5, y + h - 5), font, 1, (255, 255, 0), 1)\n",
    "\n",
    "    cv2.imshow('camera', img)\n",
    "\n",
    "    k = cv2.waitKey(10) & 0xff  # Press 'ESC' for exiting video\n",
    "    if k == 27:\n",
    "        break\n",
    "\n",
    "# Do a bit of cleanup\n",
    "print(\"\\n [INFO] Exiting Program and cleanup stuff\")\n",
    "cam.release()\n",
    "cv2.destroyAllWindows()"
   ],
   "metadata": {
    "collapsed": false
   }
  }
 ],
 "metadata": {
  "kernelspec": {
   "display_name": "Python 3",
   "language": "python",
   "name": "python3"
  },
  "language_info": {
   "codemirror_mode": {
    "name": "ipython",
    "version": 2
   },
   "file_extension": ".py",
   "mimetype": "text/x-python",
   "name": "python",
   "nbconvert_exporter": "python",
   "pygments_lexer": "ipython2",
   "version": "2.7.6"
  }
 },
 "nbformat": 4,
 "nbformat_minor": 0
}
