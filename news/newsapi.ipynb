{
 "cells": [
  {
   "cell_type": "markdown",
   "source": [
    "# News API\n",
    "\n",
    "A Python client for the [News API](https://newsapi.org/docs/)."
   ],
   "metadata": {
    "collapsed": false
   }
  },
  {
   "cell_type": "markdown",
   "source": [
    "\n",
    "## License\n",
    "\n",
    "Provided under [MIT License](https://github.com/mattlisiv/newsapi-python/blob/master/LICENSE.txt) by Matt Lisivick.\n",
    "\n",
    "```\n",
    "THE SOFTWARE IS PROVIDED \"AS IS\", WITHOUT WARRANTY OF ANY KIND, EXPRESS OR\n",
    "IMPLIED, INCLUDING BUT NOT LIMITED TO THE WARRANTIES OF MERCHANTABILITY, FITNESS\n",
    "FOR A PARTICULAR PURPOSE AND NONINFRINGEMENT. IN NO EVENT SHALL THE AUTHORS OR\n",
    "COPYRIGHT HOLDERS BE LIABLE FOR ANY CLAIM, DAMAGES OR OTHER LIABILITY, WHETHER\n",
    "IN AN ACTION OF CONTRACT, TORT OR OTHERWISE, ARISING FROM, OUT OF OR IN\n",
    "CONNECTION WITH THE SOFTWARE OR THE USE OR OTHER DEALINGS IN THE SOFTWARE.\n",
    "```"
   ],
   "metadata": {
    "collapsed": false
   }
  },
  {
   "cell_type": "markdown",
   "source": [
    "\n",
    "## General\n",
    "\n",
    "This is a Python client library for [News API V2](https://newsapi.org/).\n",
    "The functions and methods for this library should mirror the\n",
    "endpoints specified by the News API [documentation](https://newsapi.org/docs/endpoints)."
   ],
   "metadata": {
    "collapsed": false
   }
  },
  {
   "cell_type": "markdown",
   "source": [
    "\n",
    "## Installation\n",
    "\n",
    "Installation for the package can be done via `pip`:"
   ],
   "metadata": {
    "collapsed": false
   }
  },
  {
   "cell_type": "code",
   "execution_count": null,
   "outputs": [
    {
     "name": "stdout",
     "output_type": "stream",
     "text": [
      "Requirement already satisfied: newsapi-python in c:\\users\\yilma\\appdata\\local\\programs\\python\\python310\\lib\\site-packages (0.2.7)\n",
      "Requirement already satisfied: requests<3.0.0 in c:\\users\\yilma\\appdata\\roaming\\python\\python310\\site-packages (from newsapi-python) (2.28.2)\n",
      "Requirement already satisfied: idna<4,>=2.5 in c:\\users\\yilma\\appdata\\local\\programs\\python\\python310\\lib\\site-packages (from requests<3.0.0->newsapi-python) (3.4)\n",
      "Requirement already satisfied: urllib3<1.27,>=1.21.1 in c:\\users\\yilma\\appdata\\local\\programs\\python\\python310\\lib\\site-packages (from requests<3.0.0->newsapi-python) (1.26.15)\n",
      "Requirement already satisfied: certifi>=2017.4.17 in c:\\users\\yilma\\appdata\\roaming\\python\\python310\\site-packages (from requests<3.0.0->newsapi-python) (2022.12.7)\n",
      "Requirement already satisfied: charset-normalizer<4,>=2 in c:\\users\\yilma\\appdata\\roaming\\python\\python310\\site-packages (from requests<3.0.0->newsapi-python) (3.1.0)\n",
      "Requirement already satisfied: opencv-python in c:\\users\\yilma\\appdata\\local\\programs\\python\\python310\\lib\\site-packages (4.7.0.72)\n",
      "Requirement already satisfied: numpy>=1.17.0 in c:\\users\\yilma\\appdata\\local\\programs\\python\\python310\\lib\\site-packages (from opencv-python) (1.23.5)\n"
     ]
    }
   ],
   "source": [
    "!pip install newsapi-python\n",
    "!pip install opencv-python\n",
    "!pip install mediapipe\n",
    "!pip install screeninfo\n",
    "!pip install cvzone\n",
    "!pip install matplotlib\n",
    "!pip install pandas"
   ],
   "metadata": {
    "collapsed": false,
    "ExecuteTime": {
     "start_time": "2023-04-01T02:26:05.331631Z",
     "end_time": "2023-04-01T02:26:33.950803Z"
    },
    "pycharm": {
     "is_executing": true
    }
   }
  },
  {
   "cell_type": "markdown",
   "source": [
    "## Usage\n",
    "\n",
    "After installation, import the client class into your project:"
   ],
   "metadata": {
    "collapsed": false
   }
  },
  {
   "cell_type": "code",
   "execution_count": null,
   "outputs": [],
   "source": [
    "from newsapi import NewsApiClient"
   ],
   "metadata": {
    "collapsed": false,
    "ExecuteTime": {
     "start_time": "2023-04-01T02:26:33.952801Z",
     "end_time": "2023-04-01T02:26:34.290592Z"
    },
    "pycharm": {
     "is_executing": true
    }
   }
  },
  {
   "cell_type": "markdown",
   "source": [
    "Initialize the client with your API key:"
   ],
   "metadata": {
    "collapsed": false
   }
  },
  {
   "cell_type": "code",
   "execution_count": null,
   "outputs": [],
   "source": [
    "import os\n",
    "\n",
    "api = NewsApiClient(api_key=os.environ['NEWSAPI_ORG'])"
   ],
   "metadata": {
    "collapsed": false,
    "ExecuteTime": {
     "start_time": "2023-04-01T02:26:34.290592Z",
     "end_time": "2023-04-01T02:26:34.305607Z"
    },
    "pycharm": {
     "is_executing": true
    }
   }
  },
  {
   "cell_type": "markdown",
   "source": [
    "\n",
    "### Endpoints\n",
    "\n",
    "An instance of `NewsApiClient` has three instance methods corresponding to three News API endpoints."
   ],
   "metadata": {
    "collapsed": false
   }
  },
  {
   "cell_type": "markdown",
   "source": [
    "#### Top Headlines\n",
    "\n",
    "Use `.get_top_headlines()` to pull from the [`/top-headlines`](https://newsapi.org/docs/endpoints/top-headlines) endpoint:"
   ],
   "metadata": {
    "collapsed": false
   }
  },
  {
   "cell_type": "code",
   "execution_count": null,
   "outputs": [],
   "source": [
    "api.get_top_headlines(sources='bbc-news')"
   ],
   "metadata": {
    "collapsed": false,
    "ExecuteTime": {
     "start_time": "2023-04-01T02:26:34.308607Z",
     "end_time": "2023-04-01T02:26:34.912299Z"
    },
    "pycharm": {
     "is_executing": true
    }
   }
  },
  {
   "cell_type": "markdown",
   "source": [
    "#### Everything\n",
    "\n",
    "Use `.get_everything()` to pull from the [`/everything`](https://newsapi.org/docs/endpoints/everything) endpoint:"
   ],
   "metadata": {
    "collapsed": false
   }
  },
  {
   "cell_type": "code",
   "execution_count": null,
   "outputs": [],
   "source": [
    "api.get_everything(q='bitcoin')"
   ],
   "metadata": {
    "collapsed": false,
    "ExecuteTime": {
     "start_time": "2023-04-01T02:26:34.914305Z",
     "end_time": "2023-04-01T02:26:35.716498Z"
    },
    "pycharm": {
     "is_executing": true
    }
   }
  },
  {
   "cell_type": "markdown",
   "source": [
    "#### Sources\n",
    "\n",
    "Use `.get_sources()` to pull from the [`/sources`](https://newsapi.org/docs/endpoints/sources) endpoint:"
   ],
   "metadata": {
    "collapsed": false
   }
  },
  {
   "cell_type": "code",
   "execution_count": null,
   "outputs": [],
   "source": [
    "api.get_sources()"
   ],
   "metadata": {
    "collapsed": false,
    "ExecuteTime": {
     "start_time": "2023-04-01T02:26:35.710961Z",
     "end_time": "2023-04-01T02:26:36.170931Z"
    },
    "pycharm": {
     "is_executing": true
    }
   }
  },
  {
   "cell_type": "markdown",
   "source": [
    "## For Windows users printing to _cmd_ or _powershell_\n",
    "\n",
    "You will encounter an error if you attempt to print the .json() object to the command line. This is because the '{', '}' curly braces to be printed to the console.\n",
    "This becomes especially annoying if developers wish to get 'under the hood'.\n",
    "\n",
    "Here is the error:\n",
    "\n",
    "```\n",
    "UnicodeEncodeError: 'charmap' codec can't encode character '\\u2019' in position 1444: character maps to <undefined>\n",
    "```\n",
    "\n",
    "This can be fixed by:\n",
    "    - installing 'win-unicode-console'\n",
    "        `py -mpip install win-unicode-console`\n",
    "    - then running it while calling your python script...\n",
    "        `py -mrun myPythonScript.py`\n",
    "\n",
    "Another option is hardcoding your console to only print in utf-8. This is a bad idea, as it could ruin many other scripts and/or make errors MUCH more difficult to track.\n",
    "[More information](https://stackoverflow.com/questions/5419/python-unicode-and-the-windows-console/32176732#32176732).\n"
   ],
   "metadata": {
    "collapsed": false
   }
  },
  {
   "cell_type": "markdown",
   "source": [
    "## Showtime - Let's get some news but using it together with OpenCV and Pandas\n"
   ],
   "metadata": {
    "collapsed": false
   }
  },
  {
   "cell_type": "code",
   "execution_count": null,
   "outputs": [],
   "source": [
    "import cv2\n",
    "import pandas as pd\n",
    "import numpy as np"
   ],
   "metadata": {
    "collapsed": false,
    "ExecuteTime": {
     "start_time": "2023-04-01T02:26:36.159923Z",
     "end_time": "2023-04-01T02:26:36.942328Z"
    },
    "pycharm": {
     "is_executing": true
    }
   }
  },
  {
   "cell_type": "code",
   "execution_count": null,
   "outputs": [],
   "source": [
    "# init\n",
    "api = NewsApiClient(api_key=os.environ['NEWSAPI_ORG'])"
   ],
   "metadata": {
    "collapsed": false,
    "ExecuteTime": {
     "start_time": "2023-04-01T02:26:36.945343Z",
     "end_time": "2023-04-01T02:26:36.958234Z"
    },
    "pycharm": {
     "is_executing": true
    }
   }
  },
  {
   "cell_type": "code",
   "execution_count": null,
   "outputs": [],
   "source": [
    "def get_top_headlines():\n",
    "    response = api.get_top_headlines(\n",
    "        sources='bbc-news, cnn, fox-news, google-news, the-new-york-times, the-wall-street-journal, the-washington-post, time, usa-today, wired'\n",
    "    )\n",
    "    return response\n",
    "\n",
    "\n",
    "top_headlines = get_top_headlines()"
   ],
   "metadata": {
    "collapsed": false,
    "ExecuteTime": {
     "start_time": "2023-04-01T02:26:36.960503Z",
     "end_time": "2023-04-01T02:26:37.205846Z"
    },
    "pycharm": {
     "is_executing": true
    }
   }
  },
  {
   "cell_type": "code",
   "execution_count": null,
   "outputs": [],
   "source": [
    "print(\n",
    "    \"\"\"\n",
    "    Top Headlines\n",
    "    -------------\n",
    "    {}\n",
    "    \"\"\".format(top_headlines)\n",
    ")"
   ],
   "metadata": {
    "collapsed": false,
    "ExecuteTime": {
     "start_time": "2023-04-01T02:26:37.209846Z",
     "end_time": "2023-04-01T02:26:37.222384Z"
    },
    "pycharm": {
     "is_executing": true
    }
   }
  },
  {
   "cell_type": "code",
   "execution_count": null,
   "outputs": [],
   "source": [
    "def news_to_df(news):\n",
    "    # map all the articles to a list\n",
    "    articles = list(map(lambda x: x['title'], news['articles']))\n",
    "\n",
    "    # create a dataframe\n",
    "    df = pd.DataFrame(articles, columns=['title'])\n",
    "\n",
    "    # add a column for the length of the title\n",
    "    df['title_length'] = df['title'].apply(lambda x: len(x))\n",
    "\n",
    "    # add a column for the number of words in the title\n",
    "    df['title_words'] = df['title'].apply(lambda x: len(x.split(' ')))\n",
    "\n",
    "    return df"
   ],
   "metadata": {
    "collapsed": false,
    "ExecuteTime": {
     "start_time": "2023-04-01T02:26:37.225389Z",
     "end_time": "2023-04-01T02:26:37.264980Z"
    },
    "pycharm": {
     "is_executing": true
    }
   }
  },
  {
   "cell_type": "code",
   "execution_count": null,
   "outputs": [],
   "source": [
    "df = news_to_df(top_headlines)"
   ],
   "metadata": {
    "collapsed": false,
    "ExecuteTime": {
     "start_time": "2023-04-01T02:26:37.243386Z",
     "end_time": "2023-04-01T02:26:37.265982Z"
    },
    "pycharm": {
     "is_executing": true
    }
   }
  },
  {
   "cell_type": "code",
   "execution_count": null,
   "outputs": [],
   "source": [
    "display(df)"
   ],
   "metadata": {
    "collapsed": false,
    "ExecuteTime": {
     "start_time": "2023-04-01T02:26:37.257574Z",
     "end_time": "2023-04-01T02:26:37.291980Z"
    },
    "pycharm": {
     "is_executing": true
    }
   }
  },
  {
   "cell_type": "code",
   "execution_count": null,
   "outputs": [],
   "source": [
    "import cv2\n",
    "import mediapipe as mp\n",
    "import cvzone\n",
    "import numpy as np\n",
    "import screeninfo\n"
   ],
   "metadata": {
    "collapsed": false,
    "ExecuteTime": {
     "start_time": "2023-04-01T02:26:37.286983Z",
     "end_time": "2023-04-01T02:26:44.177044Z"
    },
    "pycharm": {
     "is_executing": true
    }
   }
  },
  {
   "cell_type": "code",
   "execution_count": 15,
   "outputs": [],
   "source": [
    "# Using OpenCV to display the image\n",
    "cap = cv2.VideoCapture(0)\n",
    "\n",
    "cap.set(cv2.CAP_PROP_FRAME_WIDTH, 1280)\n",
    "cap.set(cv2.CAP_PROP_FRAME_HEIGHT, 1024)\n",
    "cap.set(cv2.CAP_PROP_FPS, 60)\n",
    "\n",
    "# text as one line string\n",
    "text = ' '.join(df['title'].tolist())\n",
    "\n",
    "# add '###' between each title\n",
    "text = ' ... | '.join(df['title'].tolist())\n",
    "\n",
    "mp_drawing = mp.solutions.drawing_utils\n",
    "mp_drawing_styles = mp.solutions.drawing_styles\n",
    "mp_hands = mp.solutions.hands\n",
    "\n",
    "with mp_hands.Hands(\n",
    "        model_complexity=0,\n",
    "        min_detection_confidence=0.5,\n",
    "        min_tracking_confidence=0.5) as hands:\n",
    "    while cap.isOpened():\n",
    "        success, image = cap.read()\n",
    "        if not success:\n",
    "            print(\"Ignoring empty camera frame.\")\n",
    "            # If loading a video, use 'break' instead of 'continue'.\n",
    "            continue\n",
    "\n",
    "        image = cv2.flip(image, 1)\n",
    "\n",
    "        # To improve performance, optionally mark the image as not writeable to\n",
    "        # pass by reference.\n",
    "        image.flags.writeable = False\n",
    "        image = cv2.cvtColor(image, cv2.COLOR_BGR2RGB)\n",
    "        results = hands.process(image)\n",
    "\n",
    "        # Draw the hand annotations on the image.\n",
    "        image.flags.writeable = True\n",
    "        image = cv2.cvtColor(image, cv2.COLOR_RGB2BGR)\n",
    "        if results.multi_hand_landmarks:\n",
    "            for hand_landmarks in results.multi_hand_landmarks:\n",
    "                mp_drawing.draw_landmarks(\n",
    "                    image,\n",
    "                    hand_landmarks,\n",
    "                    mp_hands.HAND_CONNECTIONS,\n",
    "                    mp_drawing_styles.get_default_hand_landmarks_style(),\n",
    "                    mp_drawing_styles.get_default_hand_connections_style())\n",
    "\n",
    "                # if left hand is raised then move the text to the left\n",
    "                if hand_landmarks.landmark[mp_hands.HandLandmark.WRIST].x < 0.2:\n",
    "                    text = text[1:] + text[0]\n",
    "                    prev_color = (255, 255, 255)\n",
    "                    cv2.putText(image, text, (0, int(image.shape[0] - 10)), cv2.FONT_HERSHEY_SIMPLEX, 1, prev_color, 2, cv2.LINE_AA)\n",
    "                # if right hand is raised then move the text to the right\n",
    "                if hand_landmarks.landmark[mp_hands.HandLandmark.WRIST].x > 0.8:\n",
    "                    text = text[-1] + text[:-1]\n",
    "                    prev_color = (255, 255, 255)\n",
    "                    cv2.putText(image, text, (0, int(image.shape[0] - 10)), cv2.FONT_HERSHEY_SIMPLEX, 1, prev_color, 2, cv2.LINE_AA)\n",
    "\n",
    "                # if both hands are raised then change the color of the text\n",
    "                if 0.2 < hand_landmarks.landmark[mp_hands.HandLandmark.WRIST].x < 0.8:\n",
    "                    prev_color = (np.random.randint(0, 255), np.random.randint(0, 255), np.random.randint(0, 255))\n",
    "                    text = text\n",
    "                    cv2.putText(image, text, (0, int(image.shape[0] - 10)), cv2.FONT_HERSHEY_SIMPLEX, 1, prev_color, 4, cv2.LINE_AA)\n",
    "\n",
    "\n",
    "        # Flip the image horizontally for a selfie-view display.\n",
    "        cv2.imshow('AI News', image)\n",
    "\n",
    "        # wait for the 'q' key to be pressed\n",
    "        if cv2.waitKey(1) & 0xFF == ord('q'):\n",
    "            break\n",
    "\n",
    "        # if 's' is pressed, save the image\n",
    "        if cv2.waitKey(1) & 0xFF == ord('s'):\n",
    "            cv2.imwrite('news.jpg', image)\n",
    "\n",
    "cap.release()\n",
    "\n",
    "# stop the video\n",
    "cv2.destroyAllWindows()\n"
   ],
   "metadata": {
    "collapsed": false,
    "ExecuteTime": {
     "start_time": "2023-04-01T02:27:28.147401Z",
     "end_time": "2023-04-01T02:28:28.431454Z"
    }
   }
  },
  {
   "cell_type": "code",
   "execution_count": 6,
   "outputs": [
    {
     "ename": "NameError",
     "evalue": "name 'df' is not defined",
     "output_type": "error",
     "traceback": [
      "\u001B[1;31m---------------------------------------------------------------------------\u001B[0m",
      "\u001B[1;31mNameError\u001B[0m                                 Traceback (most recent call last)",
      "Cell \u001B[1;32mIn[6], line 6\u001B[0m\n\u001B[0;32m      3\u001B[0m \u001B[38;5;28;01mimport\u001B[39;00m \u001B[38;5;21;01mmatplotlib\u001B[39;00m\u001B[38;5;21;01m.\u001B[39;00m\u001B[38;5;21;01mpyplot\u001B[39;00m \u001B[38;5;28;01mas\u001B[39;00m \u001B[38;5;21;01mplt\u001B[39;00m\n\u001B[0;32m      5\u001B[0m \u001B[38;5;66;03m# get the image\u001B[39;00m\n\u001B[1;32m----> 6\u001B[0m img \u001B[38;5;241m=\u001B[39m get_news_image(\u001B[43mdf\u001B[49m)\n\u001B[0;32m      8\u001B[0m \u001B[38;5;66;03m# show the image\u001B[39;00m\n\u001B[0;32m      9\u001B[0m plt\u001B[38;5;241m.\u001B[39mimshow(img)\n",
      "\u001B[1;31mNameError\u001B[0m: name 'df' is not defined"
     ]
    }
   ],
   "source": [
    "# Using Matplotlib to display the image\n",
    "\n",
    "import matplotlib.pyplot as plt\n",
    "\n",
    "# get the image\n",
    "img = cv2.imread('news.jpg')\n",
    "\n",
    "# show the image\n",
    "plt.imshow(img)\n"
   ],
   "metadata": {
    "collapsed": false
   }
  },
  {
   "cell_type": "code",
   "execution_count": null,
   "outputs": [],
   "source": [],
   "metadata": {
    "collapsed": false
   }
  }
 ],
 "metadata": {
  "kernelspec": {
   "display_name": "Python 3",
   "language": "python",
   "name": "python3"
  },
  "language_info": {
   "codemirror_mode": {
    "name": "ipython",
    "version": 2
   },
   "file_extension": ".py",
   "mimetype": "text/x-python",
   "name": "python",
   "nbconvert_exporter": "python",
   "pygments_lexer": "ipython2",
   "version": "2.7.6"
  }
 },
 "nbformat": 4,
 "nbformat_minor": 0
}
