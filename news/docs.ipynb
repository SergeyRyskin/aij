{
 "cells": [
  {
   "cell_type": "markdown",
   "metadata": {
    "collapsed": false
   },
   "source": [
    "# News API\n",
    "\n",
    "A Python client for the [News API](https://newsapi.org/docs/)."
   ]
  },
  {
   "attachments": {},
   "cell_type": "markdown",
   "metadata": {
    "collapsed": false
   },
   "source": [
    "## General\n",
    "\n",
    "This is a Python client library for [News API V2](https://newsapi.org/).\n",
    "The functions and methods for this library should mirror the\n",
    "endpoints specified by the News API [documentation](https://newsapi.org/docs/endpoints)."
   ]
  },
  {
   "attachments": {},
   "cell_type": "markdown",
   "metadata": {
    "collapsed": false
   },
   "source": [
    "## Installation\n",
    "\n",
    "Installation for the package can be done via `pip`:"
   ]
  },
  {
   "cell_type": "code",
   "execution_count": null,
   "metadata": {
    "ExecuteTime": {
     "end_time": "2023-04-01T02:30:50.383591Z",
     "start_time": "2023-04-01T02:30:20.376567Z"
    },
    "collapsed": false
   },
   "outputs": [],
   "source": [
    "%pip install newsapi-python\n",
    "%pip install opencv-python\n",
    "%pip install mediapipe\n",
    "%pip install screeninfo\n",
    "%pip install cvzone\n",
    "%pip install matplotlib\n",
    "%pip install pandas"
   ]
  },
  {
   "cell_type": "markdown",
   "metadata": {
    "collapsed": false
   },
   "source": [
    "## Usage\n",
    "\n",
    "After installation, import the client class into your project:"
   ]
  },
  {
   "cell_type": "code",
   "execution_count": null,
   "metadata": {
    "ExecuteTime": {
     "end_time": "2023-04-03T21:27:53.325585Z",
     "start_time": "2023-04-03T21:27:53.292332Z"
    },
    "collapsed": false
   },
   "outputs": [],
   "source": [
    "from newsapi import NewsApiClient"
   ]
  },
  {
   "cell_type": "markdown",
   "metadata": {
    "collapsed": false
   },
   "source": [
    "Initialize the client with your API key:"
   ]
  },
  {
   "cell_type": "code",
   "execution_count": null,
   "metadata": {
    "ExecuteTime": {
     "end_time": "2023-04-03T21:29:01.126203Z",
     "start_time": "2023-04-03T21:29:01.102597Z"
    },
    "collapsed": false
   },
   "outputs": [],
   "source": [
    "import os\n",
    "\n",
    "api = NewsApiClient(api_key=os.environ['NEWSAPI_ORG'])"
   ]
  },
  {
   "attachments": {},
   "cell_type": "markdown",
   "metadata": {
    "collapsed": false
   },
   "source": [
    "### Endpoints\n",
    "\n",
    "An instance of `NewsApiClient` has three instance methods corresponding to three News API endpoints."
   ]
  },
  {
   "cell_type": "markdown",
   "metadata": {
    "collapsed": false
   },
   "source": [
    "#### Top Headlines\n",
    "\n",
    "Use `.get_top_headlines()` to pull from the [`/top-headlines`](https://newsapi.org/docs/endpoints/top-headlines) endpoint:"
   ]
  },
  {
   "cell_type": "code",
   "execution_count": null,
   "metadata": {
    "ExecuteTime": {
     "end_time": "2023-04-03T21:29:09.058526Z",
     "start_time": "2023-04-03T21:29:08.338129Z"
    },
    "collapsed": false
   },
   "outputs": [],
   "source": [
    "api.get_top_headlines(sources='bbc-news')"
   ]
  },
  {
   "cell_type": "markdown",
   "metadata": {
    "collapsed": false
   },
   "source": [
    "#### Everything\n",
    "\n",
    "Use `.get_everything()` to pull from the [`/everything`](https://newsapi.org/docs/endpoints/everything) endpoint:"
   ]
  },
  {
   "cell_type": "code",
   "execution_count": null,
   "metadata": {
    "ExecuteTime": {
     "end_time": "2023-04-03T21:29:34.708222Z",
     "start_time": "2023-04-03T21:29:33.765175Z"
    },
    "collapsed": false
   },
   "outputs": [],
   "source": [
    "api.get_everything(q='bitcoin')"
   ]
  },
  {
   "cell_type": "markdown",
   "metadata": {
    "collapsed": false
   },
   "source": [
    "#### Sources\n",
    "\n",
    "Use `.get_sources()` to pull from the [`/sources`](https://newsapi.org/docs/endpoints/sources) endpoint:"
   ]
  },
  {
   "cell_type": "code",
   "execution_count": null,
   "metadata": {
    "ExecuteTime": {
     "end_time": "2023-04-03T21:29:53.070906Z",
     "start_time": "2023-04-03T21:29:52.406867Z"
    },
    "collapsed": false
   },
   "outputs": [],
   "source": [
    "api.get_sources()"
   ]
  },
  {
   "attachments": {},
   "cell_type": "markdown",
   "metadata": {
    "collapsed": false
   },
   "source": [
    "## Warming up\n",
    "\n",
    "Let's get some news but using it together with OpenCV and Pandas\n"
   ]
  },
  {
   "cell_type": "code",
   "execution_count": null,
   "metadata": {
    "ExecuteTime": {
     "end_time": "2023-04-03T21:30:07.582375Z",
     "start_time": "2023-04-03T21:30:07.521417Z"
    },
    "collapsed": false
   },
   "outputs": [],
   "source": [
    "import pandas as pd\n",
    "import numpy as np"
   ]
  },
  {
   "cell_type": "code",
   "execution_count": null,
   "metadata": {
    "ExecuteTime": {
     "end_time": "2023-04-03T21:30:10.173654Z",
     "start_time": "2023-04-03T21:30:10.126107Z"
    },
    "collapsed": false
   },
   "outputs": [],
   "source": [
    "# init\n",
    "api = NewsApiClient(api_key=os.environ['NEWSAPI_ORG'])"
   ]
  },
  {
   "cell_type": "code",
   "execution_count": null,
   "metadata": {
    "ExecuteTime": {
     "end_time": "2023-04-03T21:30:15.471961Z",
     "start_time": "2023-04-03T21:30:14.821472Z"
    },
    "collapsed": false
   },
   "outputs": [],
   "source": [
    "def get_top_headlines():\n",
    "    response = api.get_top_headlines(\n",
    "        sources='bbc-news, cnn, fox-news, google-news, the-new-york-times, the-wall-street-journal, the-washington-post, time, usa-today, wired'\n",
    "    )\n",
    "    return response\n",
    "\n",
    "\n",
    "top_headlines = get_top_headlines()"
   ]
  },
  {
   "cell_type": "code",
   "execution_count": null,
   "metadata": {
    "ExecuteTime": {
     "end_time": "2023-04-03T21:30:18.815937Z",
     "start_time": "2023-04-03T21:30:18.778057Z"
    },
    "collapsed": false
   },
   "outputs": [],
   "source": [
    "print(\n",
    "    \"\"\"\n",
    "    Top Headlines\n",
    "    -------------\n",
    "    {}\n",
    "    \"\"\".format(top_headlines)\n",
    ")"
   ]
  },
  {
   "cell_type": "code",
   "execution_count": null,
   "metadata": {
    "ExecuteTime": {
     "end_time": "2023-04-03T21:30:23.288167Z",
     "start_time": "2023-04-03T21:30:23.213992Z"
    },
    "collapsed": false
   },
   "outputs": [],
   "source": [
    "def news_to_df(news):\n",
    "    # map all the articles to a list\n",
    "    articles = list(map(lambda x: x['title'], news['articles']))\n",
    "\n",
    "    # create a dataframe\n",
    "    df = pd.DataFrame(articles, columns=['title'])\n",
    "\n",
    "    # add a column for the length of the title\n",
    "    df['title_length'] = df['title'].apply(lambda x: len(x))\n",
    "\n",
    "    # add a column for the number of words in the title\n",
    "    df['title_words'] = df['title'].apply(lambda x: len(x.split(' ')))\n",
    "\n",
    "    return df"
   ]
  },
  {
   "cell_type": "code",
   "execution_count": null,
   "metadata": {},
   "outputs": [],
   "source": [
    "def news_to_df_all_cols(news):\n",
    "    # map all the articles to a list, including all columns. Only for source column, we will take the name of the source\n",
    "    articles = list(map(lambda x: [x['title'], x['description'], x['url'], x['urlToImage'], x['publishedAt'], x['source']['name']], news['articles']))\n",
    "\n",
    "    # set column names\n",
    "    columns = ['title', 'description', 'url', 'urlToImage', 'publishedAt', 'source']\n",
    "    \n",
    "    # create a dataframe\n",
    "    df = pd.DataFrame(articles, columns=columns)\n",
    "\n",
    "    return df"
   ]
  },
  {
   "cell_type": "code",
   "execution_count": null,
   "metadata": {
    "ExecuteTime": {
     "end_time": "2023-04-03T21:30:30.572157Z",
     "start_time": "2023-04-03T21:30:30.502033Z"
    },
    "collapsed": false
   },
   "outputs": [],
   "source": [
    "df = news_to_df(top_headlines)\n",
    "df.head()"
   ]
  },
  {
   "cell_type": "code",
   "execution_count": null,
   "metadata": {},
   "outputs": [],
   "source": [
    "df = news_to_df_all_cols(top_headlines)\n",
    "df.head()"
   ]
  },
  {
   "attachments": {},
   "cell_type": "markdown",
   "metadata": {},
   "source": [
    "## News API Client with OpenCV\n",
    "\n",
    "Simple WebCam Client directly consuming the NEWS API with blocking calls"
   ]
  },
  {
   "cell_type": "code",
   "execution_count": 25,
   "metadata": {
    "ExecuteTime": {
     "end_time": "2023-04-03T21:35:58.790434Z",
     "start_time": "2023-04-03T21:35:27.173352Z"
    },
    "collapsed": false
   },
   "outputs": [
    {
     "ename": "KeyboardInterrupt",
     "evalue": "",
     "output_type": "error",
     "traceback": [
      "\u001b[1;31m---------------------------------------------------------------------------\u001b[0m",
      "\u001b[1;31mKeyboardInterrupt\u001b[0m                         Traceback (most recent call last)",
      "Cell \u001b[1;32mIn[25], line 9\u001b[0m\n\u001b[0;32m      6\u001b[0m \u001b[39m# Using OpenCV to display the image\u001b[39;00m\n\u001b[0;32m      7\u001b[0m cap \u001b[39m=\u001b[39m cv2\u001b[39m.\u001b[39mVideoCapture(\u001b[39m0\u001b[39m)\n\u001b[1;32m----> 9\u001b[0m cap\u001b[39m.\u001b[39;49mset(cv2\u001b[39m.\u001b[39;49mCAP_PROP_FRAME_WIDTH, \u001b[39m1280\u001b[39;49m)\n\u001b[0;32m     10\u001b[0m cap\u001b[39m.\u001b[39mset(cv2\u001b[39m.\u001b[39mCAP_PROP_FRAME_HEIGHT, \u001b[39m720\u001b[39m)\n\u001b[0;32m     11\u001b[0m cap\u001b[39m.\u001b[39mset(cv2\u001b[39m.\u001b[39mCAP_PROP_FPS, \u001b[39m60\u001b[39m)\n",
      "\u001b[1;31mKeyboardInterrupt\u001b[0m: "
     ]
    }
   ],
   "source": [
    "import cv2\n",
    "import cvzone\n",
    "import screeninfo\n",
    "import mediapipe as mp\n",
    "\n",
    "# Using OpenCV to display the image\n",
    "cap = cv2.VideoCapture(0)\n",
    "\n",
    "cap.set(cv2.CAP_PROP_FRAME_WIDTH, 1280)\n",
    "cap.set(cv2.CAP_PROP_FRAME_HEIGHT, 720)\n",
    "cap.set(cv2.CAP_PROP_FPS, 60)\n",
    "\n",
    "# text as one line string\n",
    "text = ' '.join(df['title'].tolist())\n",
    "\n",
    "# add '###' between each title\n",
    "text = ' ... | '.join(df['title'].tolist())\n",
    "\n",
    "mp_drawing = mp.solutions.drawing_utils\n",
    "mp_drawing_styles = mp.solutions.drawing_styles\n",
    "mp_hands = mp.solutions.hands\n",
    "\n",
    "zoomed_text_color = (0, 255, 0)\n",
    "standard_text_color = (255, 255, 255)\n",
    "color = standard_text_color\n",
    "\n",
    "direction = 0\n",
    "font_size = 12\n",
    "box_size = 50\n",
    "\n",
    "with mp_hands.Hands(\n",
    "        model_complexity=0,\n",
    "        min_detection_confidence=0.5,\n",
    "        min_tracking_confidence=0.5) as hands:\n",
    "\n",
    "    while cap.isOpened():\n",
    "\n",
    "        success, image = cap.read()\n",
    "\n",
    "        if not success:\n",
    "            print(\"Ignoring empty camera frame.\")\n",
    "            # If loading a video, use 'break' instead of 'continue'.\n",
    "            continue\n",
    "\n",
    "        image = cv2.flip(image, 1)\n",
    "\n",
    "        # To improve performance, optionally mark the image as not writeable to\n",
    "        # pass by reference.\n",
    "        image.flags.writeable = False\n",
    "        image = cv2.cvtColor(image, cv2.COLOR_BGR2RGB)\n",
    "        results = hands.process(image)\n",
    "\n",
    "        # # Draw the hand annotations on the image.\n",
    "        image.flags.writeable = True\n",
    "        image = cv2.cvtColor(image, cv2.COLOR_RGB2BGR)\n",
    "\n",
    "        # create a background for the text with a border\n",
    "        cv2.rectangle(image, (0, image.shape[0] - box_size), (image.shape[1], image.shape[0]), (0, 0, 0), -1)\n",
    "        # border\n",
    "        cv2.rectangle(image, (0, image.shape[0] - box_size), (image.shape[1], image.shape[0]), (255, 255, 255), 2)\n",
    "\n",
    "\n",
    "        if results.multi_hand_landmarks:\n",
    "            for hand_landmarks in results.multi_hand_landmarks:\n",
    "                # mp_drawing.draw_landmarks(\n",
    "                #     image,\n",
    "                #     hand_landmarks,\n",
    "                #     mp_hands.HAND_CONNECTIONS,\n",
    "                #     mp_drawing_styles.get_default_hand_landmarks_style(),\n",
    "                #     mp_drawing_styles.get_default_hand_connections_style())\n",
    "\n",
    "                # if left hand is raised then move the text to the left\n",
    "                if hand_landmarks.landmark[mp_hands.HandLandmark.WRIST].x < 0.2 and len(results.multi_hand_landmarks) == 1:\n",
    "                    text = text[1:] + text[0]\n",
    "                    direction = 0\n",
    "                    font_size = 12\n",
    "                    color = standard_text_color\n",
    "                    box_size = 50\n",
    "\n",
    "                # if right hand is raised then move the text to the right\n",
    "                elif hand_landmarks.landmark[mp_hands.HandLandmark.WRIST].x > 0.8 and len(results.multi_hand_landmarks) == 1:\n",
    "                    direction = 1\n",
    "                    font_size = 12\n",
    "                    color = standard_text_color\n",
    "                    box_size = 50\n",
    "\n",
    "                # if both hands are raised then increase the font size to 36pt and change the color\n",
    "                elif 0.2 < hand_landmarks.landmark[mp_hands.HandLandmark.WRIST].x < 0.8 and len(results.multi_hand_landmarks) == 2:\n",
    "                    font_size = 36\n",
    "                    color = zoomed_text_color\n",
    "                    box_size = 100\n",
    "\n",
    "        else:\n",
    "            # if no hands are detected then move the text to the left\n",
    "            font_size = 12\n",
    "            color = standard_text_color\n",
    "            box_size = 50\n",
    "\n",
    "        if direction == 0:\n",
    "            text = text[1:] + text[0]\n",
    "        elif direction == 1:\n",
    "            text = text[-1] + text[:-1]\n",
    "\n",
    "        # draw the text\n",
    "        cv2.putText(image, text, (2, image.shape[0] - 10), cv2.FONT_HERSHEY_SIMPLEX, font_size / 12, color, 2)\n",
    "\n",
    "        # put a logo in the top left corner\n",
    "        logo = cv2.imread('logo.png')\n",
    "\n",
    "        # resize the logo\n",
    "        logo = cv2.resize(logo, (int(logo.shape[1] / 12), int(logo.shape[0] / 12)))\n",
    "\n",
    "        # add the logo to the image\n",
    "        image[0:logo.shape[0], 0:logo.shape[1]] = logo\n",
    "\n",
    "        # Flip the image horizontally for a selfie-view display.\n",
    "        cv2.imshow('AI News', image)\n",
    "\n",
    "        # wait for the 'q' key to be pressed\n",
    "        if cv2.waitKey(1) & 0xFF == ord('q'):\n",
    "            break\n",
    "\n",
    "        # if 's' is pressed, save the image\n",
    "        if cv2.waitKey(1) & 0xFF == ord('s'):\n",
    "            cv2.imwrite('news.jpg', image)\n",
    "\n",
    "cap.release()\n",
    "\n",
    "# stop the video\n",
    "cv2.destroyAllWindows()\n"
   ]
  }
 ],
 "metadata": {
  "kernelspec": {
   "display_name": "Python 3",
   "language": "python",
   "name": "python3"
  },
  "language_info": {
   "codemirror_mode": {
    "name": "ipython",
    "version": 3
   },
   "file_extension": ".py",
   "mimetype": "text/x-python",
   "name": "python",
   "nbconvert_exporter": "python",
   "pygments_lexer": "ipython3",
   "version": "3.10.9"
  }
 },
 "nbformat": 4,
 "nbformat_minor": 0
}
