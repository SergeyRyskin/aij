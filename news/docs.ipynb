{
 "cells": [
  {
   "cell_type": "markdown",
   "metadata": {
    "collapsed": false
   },
   "source": [
    "# News API\n",
    "\n",
    "A Python client for the [News API](https://newsapi.org/docs/)."
   ]
  },
  {
   "cell_type": "markdown",
   "metadata": {
    "collapsed": false
   },
   "source": [
    "\n",
    "## General\n",
    "\n",
    "This is a Python client library for [News API V2](https://newsapi.org/).\n",
    "The functions and methods for this library should mirror the\n",
    "endpoints specified by the News API [documentation](https://newsapi.org/docs/endpoints)."
   ]
  },
  {
   "cell_type": "markdown",
   "metadata": {
    "collapsed": false
   },
   "source": [
    "\n",
    "## Installation\n",
    "\n",
    "Installation for the package can be done via `pip`:"
   ]
  },
  {
   "cell_type": "code",
   "execution_count": null,
   "metadata": {
    "ExecuteTime": {
     "end_time": "2023-04-01T02:30:50.383591Z",
     "start_time": "2023-04-01T02:30:20.376567Z"
    },
    "collapsed": false
   },
   "outputs": [],
   "source": [
    "%pip install newsapi-python\n",
    "%pip install opencv-python\n",
    "%pip install mediapipe\n",
    "%pip install screeninfo\n",
    "%pip install cvzone\n",
    "%pip install matplotlib\n",
    "%pip install pandas"
   ]
  },
  {
   "cell_type": "markdown",
   "metadata": {
    "collapsed": false
   },
   "source": [
    "## Usage\n",
    "\n",
    "After installation, import the client class into your project:"
   ]
  },
  {
   "cell_type": "code",
   "execution_count": null,
   "metadata": {
    "ExecuteTime": {
     "end_time": "2023-04-03T21:27:53.325585Z",
     "start_time": "2023-04-03T21:27:53.292332Z"
    },
    "collapsed": false
   },
   "outputs": [],
   "source": [
    "from newsapi import NewsApiClient"
   ]
  },
  {
   "cell_type": "markdown",
   "metadata": {
    "collapsed": false
   },
   "source": [
    "Initialize the client with your API key:"
   ]
  },
  {
   "cell_type": "code",
   "execution_count": null,
   "metadata": {
    "ExecuteTime": {
     "end_time": "2023-04-03T21:29:01.126203Z",
     "start_time": "2023-04-03T21:29:01.102597Z"
    },
    "collapsed": false
   },
   "outputs": [],
   "source": [
    "import os\n",
    "\n",
    "api = NewsApiClient(api_key=os.environ['NEWSAPI_ORG'])"
   ]
  },
  {
   "cell_type": "markdown",
   "metadata": {
    "collapsed": false
   },
   "source": [
    "\n",
    "### Endpoints\n",
    "\n",
    "An instance of `NewsApiClient` has three instance methods corresponding to three News API endpoints."
   ]
  },
  {
   "cell_type": "markdown",
   "metadata": {
    "collapsed": false
   },
   "source": [
    "#### Top Headlines\n",
    "\n",
    "Use `.get_top_headlines()` to pull from the [`/top-headlines`](https://newsapi.org/docs/endpoints/top-headlines) endpoint:"
   ]
  },
  {
   "cell_type": "code",
   "execution_count": null,
   "metadata": {
    "ExecuteTime": {
     "end_time": "2023-04-03T21:29:09.058526Z",
     "start_time": "2023-04-03T21:29:08.338129Z"
    },
    "collapsed": false
   },
   "outputs": [],
   "source": [
    "api.get_top_headlines(sources='bbc-news')"
   ]
  },
  {
   "cell_type": "markdown",
   "metadata": {
    "collapsed": false
   },
   "source": [
    "#### Everything\n",
    "\n",
    "Use `.get_everything()` to pull from the [`/everything`](https://newsapi.org/docs/endpoints/everything) endpoint:"
   ]
  },
  {
   "cell_type": "code",
   "execution_count": null,
   "metadata": {
    "ExecuteTime": {
     "end_time": "2023-04-03T21:29:34.708222Z",
     "start_time": "2023-04-03T21:29:33.765175Z"
    },
    "collapsed": false
   },
   "outputs": [],
   "source": [
    "api.get_everything(q='bitcoin')"
   ]
  },
  {
   "cell_type": "markdown",
   "metadata": {
    "collapsed": false
   },
   "source": [
    "#### Sources\n",
    "\n",
    "Use `.get_sources()` to pull from the [`/sources`](https://newsapi.org/docs/endpoints/sources) endpoint:"
   ]
  },
  {
   "cell_type": "code",
   "execution_count": null,
   "metadata": {
    "ExecuteTime": {
     "end_time": "2023-04-03T21:29:53.070906Z",
     "start_time": "2023-04-03T21:29:52.406867Z"
    },
    "collapsed": false
   },
   "outputs": [],
   "source": [
    "api.get_sources()"
   ]
  },
  {
   "attachments": {},
   "cell_type": "markdown",
   "metadata": {
    "collapsed": false
   },
   "source": [
    "## Showtime\n",
    "\n",
    "Let's get some news but using it together with OpenCV and Pandas\n"
   ]
  },
  {
   "cell_type": "code",
   "execution_count": null,
   "metadata": {
    "ExecuteTime": {
     "end_time": "2023-04-03T21:30:07.582375Z",
     "start_time": "2023-04-03T21:30:07.521417Z"
    },
    "collapsed": false
   },
   "outputs": [],
   "source": [
    "import cv2\n",
    "import cvzone\n",
    "import screeninfo\n",
    "import mediapipe as mp\n",
    "\n",
    "import pandas as pd\n",
    "import numpy as np"
   ]
  },
  {
   "cell_type": "code",
   "execution_count": null,
   "metadata": {
    "ExecuteTime": {
     "end_time": "2023-04-03T21:30:10.173654Z",
     "start_time": "2023-04-03T21:30:10.126107Z"
    },
    "collapsed": false
   },
   "outputs": [],
   "source": [
    "# init\n",
    "api = NewsApiClient(api_key=os.environ['NEWSAPI_ORG'])"
   ]
  },
  {
   "cell_type": "code",
   "execution_count": null,
   "metadata": {
    "ExecuteTime": {
     "end_time": "2023-04-03T21:30:15.471961Z",
     "start_time": "2023-04-03T21:30:14.821472Z"
    },
    "collapsed": false
   },
   "outputs": [],
   "source": [
    "def get_top_headlines():\n",
    "    response = api.get_top_headlines(\n",
    "        sources='bbc-news, cnn, fox-news, google-news, the-new-york-times, the-wall-street-journal, the-washington-post, time, usa-today, wired'\n",
    "    )\n",
    "    return response\n",
    "\n",
    "\n",
    "top_headlines = get_top_headlines()"
   ]
  },
  {
   "cell_type": "code",
   "execution_count": null,
   "metadata": {
    "ExecuteTime": {
     "end_time": "2023-04-03T21:30:18.815937Z",
     "start_time": "2023-04-03T21:30:18.778057Z"
    },
    "collapsed": false
   },
   "outputs": [],
   "source": [
    "print(\n",
    "    \"\"\"\n",
    "    Top Headlines\n",
    "    -------------\n",
    "    {}\n",
    "    \"\"\".format(top_headlines)\n",
    ")"
   ]
  },
  {
   "cell_type": "code",
   "execution_count": null,
   "metadata": {
    "ExecuteTime": {
     "end_time": "2023-04-03T21:30:23.288167Z",
     "start_time": "2023-04-03T21:30:23.213992Z"
    },
    "collapsed": false
   },
   "outputs": [],
   "source": [
    "def news_to_df(news):\n",
    "    # map all the articles to a list\n",
    "    articles = list(map(lambda x: x['title'], news['articles']))\n",
    "\n",
    "    # create a dataframe\n",
    "    df = pd.DataFrame(articles, columns=['title'])\n",
    "\n",
    "    # add a column for the length of the title\n",
    "    df['title_length'] = df['title'].apply(lambda x: len(x))\n",
    "\n",
    "    # add a column for the number of words in the title\n",
    "    df['title_words'] = df['title'].apply(lambda x: len(x.split(' ')))\n",
    "\n",
    "    return df"
   ]
  },
  {
   "cell_type": "code",
   "execution_count": null,
   "metadata": {},
   "outputs": [],
   "source": [
    "def news_to_df_all_cols(news):\n",
    "    # map all the articles to a list, including all columns. Only for source column, we will take the name of the source\n",
    "    articles = list(map(lambda x: [x['title'], x['description'], x['url'], x['urlToImage'], x['publishedAt'], x['source']['name']], news['articles']))\n",
    "\n",
    "    # set column names\n",
    "    columns = ['title', 'description', 'url', 'urlToImage', 'publishedAt', 'source']\n",
    "    \n",
    "    # create a dataframe\n",
    "    df = pd.DataFrame(articles, columns=columns)\n",
    "\n",
    "    return df"
   ]
  },
  {
   "cell_type": "code",
   "execution_count": null,
   "metadata": {
    "ExecuteTime": {
     "end_time": "2023-04-03T21:30:30.572157Z",
     "start_time": "2023-04-03T21:30:30.502033Z"
    },
    "collapsed": false
   },
   "outputs": [],
   "source": [
    "df = news_to_df(top_headlines)\n",
    "\n",
    "df.head()"
   ]
  },
  {
   "cell_type": "code",
   "execution_count": null,
   "metadata": {},
   "outputs": [],
   "source": [
    "df = news_to_df_all_cols(top_headlines)\n",
    "\n",
    "df.head()"
   ]
  },
  {
   "attachments": {},
   "cell_type": "markdown",
   "metadata": {},
   "source": [
    "### Simple WebCam Client directly consuming the NEWS API with blocking calls"
   ]
  },
  {
   "cell_type": "code",
   "execution_count": null,
   "metadata": {
    "ExecuteTime": {
     "end_time": "2023-04-03T21:35:58.790434Z",
     "start_time": "2023-04-03T21:35:27.173352Z"
    },
    "collapsed": false
   },
   "outputs": [],
   "source": [
    "# Using OpenCV to display the image\n",
    "cap = cv2.VideoCapture(0)\n",
    "\n",
    "cap.set(cv2.CAP_PROP_FRAME_WIDTH, 1280)\n",
    "cap.set(cv2.CAP_PROP_FRAME_HEIGHT, 720)\n",
    "cap.set(cv2.CAP_PROP_FPS, 60)\n",
    "\n",
    "# text as one line string\n",
    "text = ' '.join(df['title'].tolist())\n",
    "\n",
    "# add '###' between each title\n",
    "text = ' ... | '.join(df['title'].tolist())\n",
    "\n",
    "mp_drawing = mp.solutions.drawing_utils\n",
    "mp_drawing_styles = mp.solutions.drawing_styles\n",
    "mp_hands = mp.solutions.hands\n",
    "\n",
    "zoomed_text_color = (0, 255, 0)\n",
    "standard_text_color = (255, 255, 255)\n",
    "color = standard_text_color\n",
    "\n",
    "direction = 0\n",
    "font_size = 12\n",
    "box_size = 50\n",
    "\n",
    "with mp_hands.Hands(\n",
    "        model_complexity=0,\n",
    "        min_detection_confidence=0.5,\n",
    "        min_tracking_confidence=0.5) as hands:\n",
    "\n",
    "    while cap.isOpened():\n",
    "\n",
    "        success, image = cap.read()\n",
    "\n",
    "        if not success:\n",
    "            print(\"Ignoring empty camera frame.\")\n",
    "            # If loading a video, use 'break' instead of 'continue'.\n",
    "            continue\n",
    "\n",
    "        image = cv2.flip(image, 1)\n",
    "\n",
    "        # To improve performance, optionally mark the image as not writeable to\n",
    "        # pass by reference.\n",
    "        image.flags.writeable = False\n",
    "        image = cv2.cvtColor(image, cv2.COLOR_BGR2RGB)\n",
    "        results = hands.process(image)\n",
    "\n",
    "        # # Draw the hand annotations on the image.\n",
    "        image.flags.writeable = True\n",
    "        image = cv2.cvtColor(image, cv2.COLOR_RGB2BGR)\n",
    "\n",
    "        # create a background for the text with a border\n",
    "        cv2.rectangle(image, (0, image.shape[0] - box_size), (image.shape[1], image.shape[0]), (0, 0, 0), -1)\n",
    "        # border\n",
    "        cv2.rectangle(image, (0, image.shape[0] - box_size), (image.shape[1], image.shape[0]), (255, 255, 255), 2)\n",
    "\n",
    "\n",
    "        if results.multi_hand_landmarks:\n",
    "            for hand_landmarks in results.multi_hand_landmarks:\n",
    "                # mp_drawing.draw_landmarks(\n",
    "                #     image,\n",
    "                #     hand_landmarks,\n",
    "                #     mp_hands.HAND_CONNECTIONS,\n",
    "                #     mp_drawing_styles.get_default_hand_landmarks_style(),\n",
    "                #     mp_drawing_styles.get_default_hand_connections_style())\n",
    "\n",
    "                # if left hand is raised then move the text to the left\n",
    "                if hand_landmarks.landmark[mp_hands.HandLandmark.WRIST].x < 0.2 and len(results.multi_hand_landmarks) == 1:\n",
    "                    text = text[1:] + text[0]\n",
    "                    direction = 0\n",
    "                    font_size = 12\n",
    "                    color = standard_text_color\n",
    "                    box_size = 50\n",
    "\n",
    "                # if right hand is raised then move the text to the right\n",
    "                elif hand_landmarks.landmark[mp_hands.HandLandmark.WRIST].x > 0.8 and len(results.multi_hand_landmarks) == 1:\n",
    "                    direction = 1\n",
    "                    font_size = 12\n",
    "                    color = standard_text_color\n",
    "                    box_size = 50\n",
    "\n",
    "                # if both hands are raised then increase the font size to 36pt and change the color\n",
    "                elif 0.2 < hand_landmarks.landmark[mp_hands.HandLandmark.WRIST].x < 0.8 and len(results.multi_hand_landmarks) == 2:\n",
    "                    font_size = 36\n",
    "                    color = zoomed_text_color\n",
    "                    box_size = 100\n",
    "\n",
    "        else:\n",
    "            # if no hands are detected then move the text to the left\n",
    "            font_size = 12\n",
    "            color = standard_text_color\n",
    "            box_size = 50\n",
    "\n",
    "        if direction == 0:\n",
    "            text = text[1:] + text[0]\n",
    "        elif direction == 1:\n",
    "            text = text[-1] + text[:-1]\n",
    "\n",
    "        # draw the text\n",
    "        cv2.putText(image, text, (2, image.shape[0] - 10), cv2.FONT_HERSHEY_SIMPLEX, font_size / 12, color, 2)\n",
    "\n",
    "        # put a logo in the top left corner\n",
    "        logo = cv2.imread('logo.png')\n",
    "\n",
    "        # resize the logo\n",
    "        logo = cv2.resize(logo, (int(logo.shape[1] / 12), int(logo.shape[0] / 12)))\n",
    "\n",
    "        # add the logo to the image\n",
    "        image[0:logo.shape[0], 0:logo.shape[1]] = logo\n",
    "\n",
    "        # Flip the image horizontally for a selfie-view display.\n",
    "        cv2.imshow('AI News', image)\n",
    "\n",
    "        # wait for the 'q' key to be pressed\n",
    "        if cv2.waitKey(1) & 0xFF == ord('q'):\n",
    "            break\n",
    "\n",
    "        # if 's' is pressed, save the image\n",
    "        if cv2.waitKey(1) & 0xFF == ord('s'):\n",
    "            cv2.imwrite('news.jpg', image)\n",
    "\n",
    "cap.release()\n",
    "\n",
    "# stop the video\n",
    "cv2.destroyAllWindows()\n"
   ]
  },
  {
   "attachments": {},
   "cell_type": "markdown",
   "metadata": {},
   "source": [
    "## Building a server with NewsAPI and RabbitMQ"
   ]
  },
  {
   "cell_type": "code",
   "execution_count": 1,
   "metadata": {},
   "outputs": [],
   "source": [
    "import json\n",
    "import os\n",
    "import time\n",
    "from threading import Timer\n",
    "\n",
    "import pandas as pd\n",
    "import pika\n",
    "from newsapi import NewsApiClient\n",
    "\n",
    "from newsapi.newsapi_exception import NewsAPIException\n",
    "\n",
    "\n",
    "class NewsPublisher:\n",
    "    \"\"\"\n",
    "    A class to publish news articles to a RabbitMQ queue using the NewsAPI\n",
    "    @param api_key: the api key to access the NewsAPI\n",
    "    @param host: the host name of the RabbitMQ server\n",
    "    @param queue_name: the name of the queue to publish the news articles\n",
    "    \"\"\"\n",
    "    def __init__(self, api_key, host='localhost', queue_name='news_stream'):\n",
    "        self.api = NewsApiClient(api_key=api_key)\n",
    "        self.host = host\n",
    "        self.queue_name = queue_name\n",
    "        # set up a connection to RabbitMQ\n",
    "        self.connection = pika.BlockingConnection(pika.ConnectionParameters(host=self.host))\n",
    "        self.channel = self.connection.channel()\n",
    "        self.sources = 'bbc-news, cnn, fox-news, google-news, time, wired, the-new-york-times, the-wall-street-journal, the-washington-post, usa-today, abc-news, associated-press, bloomberg, business-insider, cbs-news, cnbc, entertainment-weekly, espn, fortune, fox-sports, mtv-news, national-geographic, nbc-news, new-scientist, newsweek, politico, reddit-r-all, reuters, the-hill, the-huffington-post, the-verge, the-washington-times, vice-news'\n",
    "\n",
    "        try:\n",
    "            self.articles = self.api.get_everything(sources=self.sources)\n",
    "            # save the news articles to a csv file\n",
    "            _df = pd.DataFrame(self.articles['articles'])\n",
    "            _df.to_csv('news.csv', index=False)\n",
    "            _df.to_json('news.json', orient='records')\n",
    "        except NewsAPIException as api_exception:\n",
    "            print(f\"Could not request results from NewsAPI; {api_exception}\")\n",
    "            print(\"Loading the news from the database...\")\n",
    "\n",
    "    def publish(self):\n",
    "        \"\"\"\n",
    "        Publish the news articles to the RabbitMQ queue one by one and save the news to the database\n",
    "        \"\"\"\n",
    "        try:\n",
    "            for _article in self.articles['articles']:\n",
    "                _body = json.dumps(_article).encode('utf-8')\n",
    "                # add the news article to the queue\n",
    "                self.channel.basic_publish(exchange='', routing_key=self.queue_name, body=_body)\n",
    "        except NewsAPIException as api_exception:\n",
    "            print(f\"Could not request results from NewsAPI; {api_exception}\")\n",
    "            print(\"Loading the news from the database...\")\n",
    "            \n",
    "\n",
    "        # do not close the connection until the message is delivered\n",
    "        if self.connection.is_open:\n",
    "            self.connection.close()\n",
    "\n",
    "        # call the function again after 60 seconds\n",
    "        Timer(60, self.publish).start()\n",
    "\n",
    "\n",
    "    def destroy(self):\n",
    "        \"\"\"\n",
    "        Close the connection to the RabbitMQ server\n",
    "        \"\"\"\n",
    "        if self.connection.is_open:\n",
    "            self.connection.close()\n"
   ]
  },
  {
   "attachments": {},
   "cell_type": "markdown",
   "metadata": {},
   "source": [
    "> Let's run a queue consumer that will be responsible for getting the news from the API and storing it in a database."
   ]
  },
  {
   "cell_type": "code",
   "execution_count": 2,
   "metadata": {},
   "outputs": [],
   "source": [
    "import os\n",
    "import tkinter as tk\n",
    "from tkinter import messagebox\n",
    "import threading\n",
    "\n",
    "class NewsPublisherGUI:\n",
    "    def __init__(self, master):\n",
    "        self.master = master\n",
    "        self.master.title(\"AI News\")\n",
    "\n",
    "        self.label = tk.Label(self.master, text=\"Click the button to start the AI News\")\n",
    "        self.label.pack()\n",
    "\n",
    "        self.button = tk.Button(self.master, text=\"Start\", command=self.start_publisher_thread)\n",
    "        self.button.pack()\n",
    "\n",
    "        self.api_key = os.environ.get('NEWSAPI_ORG')\n",
    "        self.api = NewsPublisher(self.api_key)\n",
    "\n",
    "        self.master.protocol(\"WM_DELETE_WINDOW\", self.on_closing)\n",
    "\n",
    "    def start_publisher_thread(self):\n",
    "        t = threading.Thread(target=self.start_publisher)\n",
    "        t.start()\n",
    "\n",
    "    def start_publisher(self):\n",
    "        print('Server is being initialized...')\n",
    "        self.api.publish()\n",
    "        self.button.config(text=\"Running...\", state=tk.DISABLED)\n",
    "        print('Server is now running...')\n",
    "\n",
    "    def on_closing(self):\n",
    "        if messagebox.askokcancel(\"Quit\", \"Do you want to quit? It will stop the NewsPublisher.\"):\n",
    "            self.api.destroy()\n",
    "            self.master.destroy()\n",
    "            print('Server is being stopped by the user...')\n",
    "\n",
    "    def run(self):\n",
    "        self.master.geometry(\"320x80\")\n",
    "        self.master.mainloop()\n"
   ]
  },
  {
   "cell_type": "code",
   "execution_count": 3,
   "metadata": {},
   "outputs": [],
   "source": [
    "def start_gui():\n",
    "    root = tk.Tk()\n",
    "    app = NewsPublisherGUI(root)\n",
    "    app.run()"
   ]
  },
  {
   "cell_type": "code",
   "execution_count": 4,
   "metadata": {},
   "outputs": [
    {
     "name": "stdout",
     "output_type": "stream",
     "text": [
      "Server is being initialized...\n",
      "Server is now running...\n"
     ]
    }
   ],
   "source": [
    "publisher_thread = threading.Thread(target=start_gui)\n",
    "publisher_thread.start()"
   ]
  },
  {
   "attachments": {},
   "cell_type": "markdown",
   "metadata": {},
   "source": [
    "### News Consumer\n",
    "\n",
    "> Let's run a queue consumer that will be responsible for getting the news from the API and storing it in a database."
   ]
  },
  {
   "cell_type": "code",
   "execution_count": null,
   "metadata": {},
   "outputs": [],
   "source": [
    "import pika\n",
    "import json\n",
    "\n",
    "class NewsConsumer:\n",
    "    \"\"\"\n",
    "    A class to consume news articles from a RabbitMQ queue\n",
    "    @param host: the host name of the RabbitMQ server\n",
    "    @param queue_name: the name of the queue to consume the news articles\n",
    "    \"\"\"\n",
    "    def __init__(self, host='localhost', queue_name='news_stream'):\n",
    "        self.host = host\n",
    "        self.queue_name = queue_name\n",
    "        self.connection = pika.BlockingConnection(pika.ConnectionParameters(host=self.host))\n",
    "        self.channel = self.connection.channel()\n",
    "        self.channel.queue_declare(queue=self.queue_name)\n",
    "        self.channel.basic_consume(queue=self.queue_name, on_message_callback=self.callback, auto_ack=True)\n",
    "        \n",
    "    def callback(self, ch, method, properties, body):\n",
    "        \"\"\"\n",
    "        A callback function that is called whenever a new message is received\n",
    "        @param ch: the channel object\n",
    "        @param method: a method object\n",
    "        @param properties: message properties\n",
    "        @param body: message body (a news article in JSON format)\n",
    "        \"\"\"\n",
    "        article = json.loads(body)\n",
    "        print(f\"Received a news article from {article['source']['name']}: {article['title']}\")\n",
    "        \n",
    "    def consume(self):\n",
    "        \"\"\"\n",
    "        Start consuming messages from the RabbitMQ queue\n",
    "        \"\"\"\n",
    "        print(\"Starting to consume news articles...\")\n",
    "        self.channel.start_consuming()\n",
    "        \n",
    "    def destroy(self):\n",
    "        \"\"\"\n",
    "        Close the connection to the RabbitMQ server\n",
    "        \"\"\"\n",
    "        if self.connection.is_open:\n",
    "            self.connection.close()\n"
   ]
  },
  {
   "cell_type": "code",
   "execution_count": 3,
   "metadata": {},
   "outputs": [
    {
     "name": "stdout",
     "output_type": "stream",
     "text": [
      "Server is being initialized...\n"
     ]
    },
    {
     "name": "stderr",
     "output_type": "stream",
     "text": [
      "Exception in Tkinter callback\n",
      "Traceback (most recent call last):\n",
      "  File \"C:\\Users\\yilma\\OneDrive\\Apps\\Local\\apps\\anaconda3\\2023.03\\lib\\tkinter\\__init__.py\", line 1921, in __call__\n",
      "    return self.func(*args)\n",
      "  File \"C:\\Users\\yilma\\AppData\\Local\\Temp\\ipykernel_28460\\551332361.py\", line 25, in start_publisher\n",
      "    api.publish()\n",
      "  File \"C:\\Users\\yilma\\AppData\\Local\\Temp\\ipykernel_28460\\1570467588.py\", line 47, in publish\n",
      "    self.channel.basic_publish(exchange='', routing_key=self.queue_name, body=_body)\n",
      "  File \"c:\\Users\\yilma\\.virtualenvs\\aij-L0AtPH4U\\lib\\site-packages\\pika\\adapters\\blocking_connection.py\", line 2259, in basic_publish\n",
      "    self._impl.basic_publish(\n",
      "  File \"c:\\Users\\yilma\\.virtualenvs\\aij-L0AtPH4U\\lib\\site-packages\\pika\\channel.py\", line 423, in basic_publish\n",
      "    self._raise_if_not_open()\n",
      "  File \"c:\\Users\\yilma\\.virtualenvs\\aij-L0AtPH4U\\lib\\site-packages\\pika\\channel.py\", line 1403, in _raise_if_not_open\n",
      "    raise exceptions.ChannelWrongStateError('Channel is closed.')\n",
      "pika.exceptions.ChannelWrongStateError: Channel is closed.\n"
     ]
    },
    {
     "name": "stdout",
     "output_type": "stream",
     "text": [
      "Server is being stopped by the user...\n"
     ]
    }
   ],
   "source": [
    "# generate GUI for the user to start the news publisher\n",
    "import tkinter as tk\n",
    "from tkinter import messagebox\n",
    "import pika\n",
    "\n",
    "# create a window\n",
    "cwin = tk.Tk()\n",
    "cwin.title(\"AI News\")\n",
    "\n",
    "# create a label\n",
    "label = tk.Label(cwin, text=\"Click the button to consume published news..\")\n",
    "# create a button without the command to start the news publisher\n",
    "button = tk.Button(cwin, text=\"Start\")\n",
    "\n",
    "\n",
    "_host = 'localhost'\n",
    "consumer = pika.BlockingConnection(pika.ConnectionParameters(_host))\n",
    "channel = consumer.channel()\n",
    "channel.queue_declare(queue='news_stream')\n",
    "\n",
    "# start the news publisher\n",
    "def start_consumer():\n",
    "    print('Consumer is being initialized...')\n",
    "\n",
    "    # create a function which is called on incoming messages\n",
    "    def callback(ch, method, properties, body):\n",
    "        print(\" [x] Received %r\" % body)\n",
    "\n",
    "    # set up subscription on the queue\n",
    "    channel.basic_consume(queue='news_stream', on_message_callback=callback, auto_ack=True)\n",
    "\n",
    "    # start consuming (blocks)\n",
    "    channel.start_consuming()\n",
    "\n",
    "    # change the button text to 'Stop'\n",
    "    button.config(text=\"Running...\", state=tk.DISABLED)\n",
    "\n",
    "    print('Server is now running...')\n",
    "\n",
    "def on_closing():\n",
    "    if messagebox.askokcancel(\"Quit\", \"Do you want to quit? It will stop the NewsPublisher.\"):\n",
    "        cwin.destroy()\n",
    "        print(\n",
    "            'Server is being stopped by the user...'\n",
    "        )\n",
    "\n",
    "# add the command to the button\n",
    "button.config(command=start_publisher)\n",
    "\n",
    "# add on closing event listener\n",
    "cwin.protocol(\"WM_DELETE_WINDOW\", on_closing)\n",
    "\n",
    "# place the label and the button on the window\n",
    "label.pack()\n",
    "button.pack()\n",
    "\n",
    "# set the window size\n",
    "cwin.geometry(\"320x80\")\n",
    "\n",
    "\n",
    "# start the GUI\n",
    "cwin.mainloop()"
   ]
  },
  {
   "cell_type": "code",
   "execution_count": null,
   "metadata": {},
   "outputs": [],
   "source": []
  }
 ],
 "metadata": {
  "kernelspec": {
   "display_name": "Python 3",
   "language": "python",
   "name": "python3"
  },
  "language_info": {
   "codemirror_mode": {
    "name": "ipython",
    "version": 3
   },
   "file_extension": ".py",
   "mimetype": "text/x-python",
   "name": "python",
   "nbconvert_exporter": "python",
   "pygments_lexer": "ipython3",
   "version": "3.10.9"
  }
 },
 "nbformat": 4,
 "nbformat_minor": 0
}
